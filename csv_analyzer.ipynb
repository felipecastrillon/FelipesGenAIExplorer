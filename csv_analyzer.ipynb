{
 "cells": [
  {
   "cell_type": "markdown",
   "id": "2mdBNzaq8XW2",
   "metadata": {
    "id": "2mdBNzaq8XW2"
   },
   "source": [
    "# CSV Analyzer\n"
   ]
  },
  {
   "cell_type": "markdown",
   "id": "4ea575b2-3a61-43ae-9454-e515d4d377cf",
   "metadata": {
    "tags": []
   },
   "source": [
    "Generative Question and Answer (QnA) analyzer of csv files. The focus is on small csv files (100s or 1000s of rows) where traditionally users are doing analysis on a spreadsheet but want a more interactive way to do their analysis. \n",
    "\n",
    "Today you can drop a csv on your LLM of choice and can get answers to some complex questions that focus on language summarization tasks like topic categorization, sentiment analysis, sampling of data. Where LLM usually fail is in doing computation of your data i.e. filtering, aggregation, counts etc. \n",
    "\n",
    "In order to overcome this drawback we are taking advantage of an agentic approach while giving it access to a pandas runner. This allows the agent the ability to run computations via pandas commands. The agent will use a reAct framework to be able to think through the problem and access the pandas dataframe only when necessary. "
   ]
  },
  {
   "cell_type": "markdown",
   "id": "gncZnt8YwkTS",
   "metadata": {
    "id": "gncZnt8YwkTS"
   },
   "source": [
    "# SetUp"
   ]
  },
  {
   "cell_type": "markdown",
   "id": "Nwtoa1WKsSlSj4VrqdEY8LId",
   "metadata": {
    "id": "Nwtoa1WKsSlSj4VrqdEY8LId",
    "tags": []
   },
   "source": [
    "Install the Langchain packages: Open a terminal window and enter the command below"
   ]
  },
  {
   "cell_type": "code",
   "execution_count": 3,
   "id": "qsskCvGUcbn34hNAWisBS4Uk",
   "metadata": {
    "colab": {
     "base_uri": "https://localhost:8080/",
     "height": 1000
    },
    "executionInfo": {
     "elapsed": 46113,
     "status": "ok",
     "timestamp": 1730319297839,
     "user": {
      "displayName": "",
      "userId": ""
     },
     "user_tz": 240
    },
    "id": "qsskCvGUcbn34hNAWisBS4Uk",
    "outputId": "fc4d3234-5fe5-44ea-8dba-f70683408d49",
    "tags": []
   },
   "outputs": [
    {
     "name": "stdout",
     "output_type": "stream",
     "text": [
      "\u001b[33mWARNING: google-cloud-aiplatform 1.71.1 does not provide the extra 'all'\u001b[0m\u001b[33m\n",
      "\u001b[0m"
     ]
    }
   ],
   "source": [
    "#!pip install --upgrade google-cloud-aiplatform\n",
    "!pip install --quiet vertexai\n",
    "!pip install --quiet langchain-google-genai\n",
    "!pip install --quiet langchain\n",
    "!pip install --quiet langchain-experimental\n",
    "!pip install --no-deps --quiet langchain-google-vertexai \n",
    "!pip install --quiet panel"
   ]
  },
  {
   "cell_type": "markdown",
   "id": "01a9d81f-d79a-4bb1-bf65-f7f51245daa6",
   "metadata": {},
   "source": [
    "Initialize variables"
   ]
  },
  {
   "cell_type": "code",
   "execution_count": 4,
   "id": "b4fd443a-f7fd-432d-a909-10e3513bcd5e",
   "metadata": {
    "tags": []
   },
   "outputs": [],
   "source": [
    "PROJECT = 'felipe-sandbox-354619' # replace with project ID\n",
    "BUCKET = PROJECT + \"-bucket\" # make sure this bucket exists\n",
    "CSV_FILE = \"files/customer-comments.csv\" "
   ]
  },
  {
   "cell_type": "markdown",
   "id": "19ce2df3-64a3-4f57-a9fb-1c8a1dfcc83b",
   "metadata": {
    "tags": []
   },
   "source": [
    "Colab setup if needed"
   ]
  },
  {
   "cell_type": "code",
   "execution_count": 5,
   "id": "2af014e5-b39e-4a93-9e0a-628717e83c45",
   "metadata": {
    "tags": []
   },
   "outputs": [
    {
     "name": "stdout",
     "output_type": "stream",
     "text": [
      "Not a Colab Environment\n"
     ]
    }
   ],
   "source": [
    "try:\n",
    "    from google.colab import auth\n",
    "    auth.authenticate_user()\n",
    "    !gcloud config set project {PROJECT}\n",
    "    print('Colab authorized to GCP')\n",
    "except Exception:\n",
    "    print('Not a Colab Environment')\n",
    "    pass"
   ]
  },
  {
   "cell_type": "markdown",
   "id": "3EZsamn67y6J",
   "metadata": {
    "id": "3EZsamn67y6J"
   },
   "source": [
    "## Langchain Setup"
   ]
  },
  {
   "cell_type": "markdown",
   "id": "aZAoXfB8z4uIoOWQgYDPEvj5",
   "metadata": {
    "id": "aZAoXfB8z4uIoOWQgYDPEvj5",
    "tags": []
   },
   "source": [
    "### Tools"
   ]
  },
  {
   "cell_type": "markdown",
   "id": "cd6adc58-396f-4dae-84d5-134cdf74fc44",
   "metadata": {},
   "source": [
    "create a tool that loads csv file into a pandas dataframe and run analysis"
   ]
  },
  {
   "cell_type": "code",
   "execution_count": 6,
   "id": "2dFDFBiEF-cX",
   "metadata": {
    "executionInfo": {
     "elapsed": 304,
     "status": "ok",
     "timestamp": 1730321794859,
     "user": {
      "displayName": "",
      "userId": ""
     },
     "user_tz": 240
    },
    "id": "2dFDFBiEF-cX",
    "tags": []
   },
   "outputs": [],
   "source": [
    "import pandas as pd\n",
    "import json\n",
    "from langchain.agents import Tool\n",
    "from langchain.tools import tool\n",
    "from io import StringIO\n",
    "from pydantic import BaseModel, Field\n",
    "\n",
    "\n",
    "@tool(\"pandas_calculator\", return_direct=False)\n",
    "def pandas_calculator(dictionary:str):\n",
    "    \"\"\"\n",
    "    Evaluates an expression on a Pandas DataFrame and returns the result.\n",
    "    Inputs include an expression expr and a file path csv_file_path\n",
    "    Inputs should be in format {\\\"expr\\\": str, \\\"csv_file_path\\\": str}\n",
    "    \"\"\"\n",
    "    dictionary = json.loads(dictionary)\n",
    "    csv_file_path = dictionary[\"csv_file_path\"]\n",
    "    expr = dictionary[\"expr\"]\n",
    "    \n",
    "    try:\n",
    "        df = pd.read_csv(csv_file_path)\n",
    "        print(df)\n",
    "        # evaluate expr on the pandas dataframe\n",
    "        result = eval(expr)\n",
    "        # return the result\n",
    "        return str(result)\n",
    "    except Exception as e:\n",
    "        return f\"Error: Could not load data or evaluate expression. {e}\""
   ]
  },
  {
   "cell_type": "markdown",
   "id": "95bcfd5a-168f-4b5a-8270-f92ac151b626",
   "metadata": {},
   "source": [
    "Tool to summarize the file so that LLM can generate correct SQLs"
   ]
  },
  {
   "cell_type": "code",
   "execution_count": 33,
   "id": "db6506fb-b152-456d-b4d9-724e9b42164f",
   "metadata": {
    "tags": []
   },
   "outputs": [
    {
     "name": "stdout",
     "output_type": "stream",
     "text": [
      "first few rows of data: \n",
      "   index                                       comment country\n",
      "0      1                  The product arrived damaged.      US\n",
      "1      2              I'm very happy with the service!  Mexico\n",
      "2      3             I have a question about my order.  Canada\n",
      "3      4                        The delivery was late.      US\n",
      "4      5  The customer support agent was very helpful.  Canada\n",
      "\n",
      "information on the data:              index                       comment country\n",
      "count   100.000000                           100     100\n",
      "unique         NaN                            15       3\n",
      "top            NaN  The product arrived damaged.      US\n",
      "freq           NaN                             7      42\n",
      "mean     50.500000                           NaN     NaN\n",
      "std      29.011492                           NaN     NaN\n",
      "min       1.000000                           NaN     NaN\n",
      "25%      25.750000                           NaN     NaN\n",
      "50%      50.500000                           NaN     NaN\n",
      "75%      75.250000                           NaN     NaN\n",
      "max     100.000000                           NaN     NaN\n"
     ]
    }
   ],
   "source": [
    "@tool(\"csv_summary_statistics\", return_direct=False)\n",
    "def csv_summary_statistics(dictionary:str):\n",
    "    \"\"\"\n",
    "    Gets summary statistics on the csv to understand the data\n",
    "    Before running pandas calculator please run the statistics first\n",
    "    Inputs should be in format {\\\"csv_input_file\\\": str}\n",
    "    \"\"\"\n",
    "    \n",
    "    dictionary = json.loads(dictionary)\n",
    "    input_path = dictionary[\"csv_input_file\"]\n",
    "    \n",
    "    try:\n",
    "        df = pd.read_csv(input_path)\n",
    "        # evaluate expr on the pandas dataframe\n",
    "        result = \"first few rows of data: \\n\" + df.head().to_string() + \"\\n\\n\"\n",
    "        result += \"information on the data: \" + df.describe(include='all').to_string()\n",
    "        #print(df.info())\n",
    "        # return the result\n",
    "        return str(result)\n",
    "    except Exception as e:\n",
    "        return f\"Error: Could not load data or evaluate expression. {e}\"\n",
    "    \n",
    "test_path = \"{\\\"csv_input_file\\\":\\\"\" + CSV_FILE + \"\\\"}\"\n",
    "print(csv_summary_statistics(test_path))"
   ]
  },
  {
   "cell_type": "markdown",
   "id": "715ceeb5-88b0-4484-a4fb-63929b916c23",
   "metadata": {},
   "source": [
    "Tool to fill in any columns that do not exist (being tested)"
   ]
  },
  {
   "cell_type": "code",
   "execution_count": 96,
   "id": "48fb4b7e-c655-4415-8442-06abeff4cdf4",
   "metadata": {
    "tags": []
   },
   "outputs": [
    {
     "data": {
      "text/plain": [
       "0                                            Negative\\n\n",
       "1                                            Positive\\n\n",
       "2     Neutral.  The comment is a question, not expre...\n",
       "3                                            Negative\\n\n",
       "4                                            Positive\\n\n",
       "                            ...                        \n",
       "95                                           Negative\\n\n",
       "96    Neutral.  The comment expresses a need, not a ...\n",
       "97                                           Positive\\n\n",
       "98                                           Negative\\n\n",
       "99                                           Negative\\n\n",
       "Name: sentiment, Length: 100, dtype: object"
      ]
     },
     "execution_count": 96,
     "metadata": {},
     "output_type": "execute_result"
    }
   ],
   "source": [
    "@tool(\"generate_column\", return_direct=False)\n",
    "def generate_column(dictionary:str):\n",
    "    \"\"\"\n",
    "    For some tasks the column that is needed does not exist and \n",
    "    might need to be generated via LLM\n",
    "    This function will fill in the column via some prompt instructions and generate it\n",
    "    Inputs should be in format {\\\"csv_input_file\\\": str, \"prompt_instructions\":str, \"column_name\":str}\n",
    "    \n",
    "    csv_input_fil: is the file to be loaded\n",
    "    column_name: is the name of the new column that will be generated\n",
    "    prompt_instructions: is the prompt used by the LLM to generate the column. This will be applied to \n",
    "    each row based on function: df[column_name] = df.apply(lambda x: llm.generate(prompt_instructions + \"\\n row context\" + x + \"\\n result:\\n\"))\n",
    "    \"\"\"\n",
    "    \n",
    "    llm = ChatVertexAI(model=\"gemini-1.5-flash-002\")\n",
    "    \n",
    "    dictionary = json.loads(dictionary)\n",
    "    input_path = dictionary[\"csv_input_file\"]\n",
    "    prompt_instructions = dictionary[\"prompt_instructions\"]\n",
    "    column_name = dictionary[\"column_name\"]\n",
    "    \n",
    "    def generate_sentiment(row, prompt_instructions):\n",
    "        prompt = f\"classify this row as postive, negative or neutral sentimet\\n{row.to_string()}\\nresult:\\n\"\n",
    "        return llm.invoke(prompt).content  # Pass the message object to generate()\n",
    "    \n",
    "    #try:\n",
    "        \n",
    "    df = pd.read_csv(input_path)\n",
    "    df[column_name] = df.apply(lambda x:generate_sentiment(x, prompt_instructions), axis=1)\n",
    "\n",
    "    return df[column_name]\n",
    "    #except Exception as e:\n",
    "    #    return f\"Error: Could not load data or evaluate expression. {e}\"\n",
    "\n",
    "data_test = '{\\\"csv_input_file\\\":\\\"'+CSV_FILE+'\\\", \\\"prompt_instructions\\\":\\\"classify this row as postive, negative or neutral sentiment\\\", \\\"column_name\\\":\\\"sentiment\\\"}'\n",
    "generate_column(data_test)\n",
    "    "
   ]
  },
  {
   "cell_type": "code",
   "execution_count": 86,
   "id": "592e329c-1b33-418f-9e99-f18e0cede98b",
   "metadata": {
    "tags": []
   },
   "outputs": [
    {
     "name": "stdout",
     "output_type": "stream",
     "text": [
      "index                                     2\n",
      "comment    I'm very happy with the service!\n",
      "country                              Mexico\n",
      "classify this row as postive, negative or neutral sentimet\n",
      "index                                     2\n",
      "comment    I'm very happy with the service!\n",
      "country                              Mexico\n",
      "result:\n",
      "\n",
      "content=\"classify this row as postive, negative or neutral sentimet\\nindex                                     2\\ncomment    I'm very happy with the service!\\ncountry                              Mexico\\nresult:\\n\" additional_kwargs={} response_metadata={}\n",
      "Positive\n",
      "\n"
     ]
    }
   ],
   "source": [
    "from langchain_google_vertexai import ChatVertexAI\n",
    "from langchain.schema import SystemMessage  # Import HumanMessage\n",
    "\n",
    "llm = ChatVertexAI(model=\"gemini-1.5-flash-002\")\n",
    "df = pd.read_csv(CSV_FILE)\n",
    "\n",
    "\n",
    "def generate_sentiment(row):\n",
    "    prompt = f\"classify this row as postive, negative or neutral sentimet\\n{row.to_string()}\\nresult:\\n\"\n",
    "    print(prompt)\n",
    "    message = System(content=prompt)  # Create a HumanMessage object\n",
    "    return llm.generate([message]).content  # Pass the message object to generate()\n",
    "\n",
    "row_test = df.iloc[1]\n",
    "print(row_test.to_string())\n",
    "\n",
    "prompt = f\"classify this row as postive, negative or neutral sentimet\\n{row_test.to_string()}\\nresult:\\n\"\n",
    "print(prompt)\n",
    "message = SystemMessage(content=prompt)  # Create a HumanMessage object\n",
    "print(message)\n",
    "print(llm.invoke(prompt).content)\n",
    "#generate_sentiment(row_test)\n",
    "#df[column_name] = df.apply(generate_sentiment, axis=1)"
   ]
  },
  {
   "cell_type": "code",
   "execution_count": 46,
   "id": "39d6a848-7f24-466a-842c-59f500b6bbf4",
   "metadata": {
    "tags": []
   },
   "outputs": [
    {
     "data": {
      "text/plain": [
       "'Hello there! How can I help you today?\\n'"
      ]
     },
     "execution_count": 46,
     "metadata": {},
     "output_type": "execute_result"
    }
   ],
   "source": [
    "llm = ChatVertexAI(model=\"gemini-1.5-pro-002\")\n",
    "llm.invoke(\"hello\").content"
   ]
  },
  {
   "cell_type": "code",
   "execution_count": 47,
   "id": "n7YCgEQM74Ac",
   "metadata": {
    "colab": {
     "base_uri": "https://localhost:8080/"
    },
    "executionInfo": {
     "elapsed": 348,
     "status": "ok",
     "timestamp": 1730321798695,
     "user": {
      "displayName": "",
      "userId": ""
     },
     "user_tz": 240
    },
    "id": "n7YCgEQM74Ac",
    "outputId": "8a20b6d9-d9ab-4c39-edf1-69c024e49963",
    "tags": []
   },
   "outputs": [
    {
     "name": "stderr",
     "output_type": "stream",
     "text": [
      "/opt/conda/lib/python3.10/site-packages/langsmith/client.py:234: LangSmithMissingAPIKeyWarning: API key must be provided when using hosted LangSmith API\n",
      "  warnings.warn(\n"
     ]
    }
   ],
   "source": [
    "from langchain import hub\n",
    "from langchain.agents import AgentExecutor, create_react_agent\n",
    "from langchain_google_vertexai import ChatVertexAI\n",
    "from langchain.memory import ConversationBufferWindowMemory\n",
    "\n",
    "\n",
    "llm = ChatVertexAI(model=\"gemini-1.5-pro-002\")\n",
    "prompt = hub.pull(\"hwchase17/react-chat\")\n",
    "chat_history = ConversationBufferWindowMemory(k=10)\n",
    "\n",
    "agent = create_react_agent(llm, [pandas_calculator,csv_summary_statistics], prompt)\n",
    "\n",
    "agent_executor = AgentExecutor(agent=agent,\n",
    "                               tools=[pandas_calculator,csv_summary_statistics],\n",
    "                               verbose=True, handle_parsing_errors=True,\n",
    "                               max_iterations=5)\n",
    "\n",
    "def append_chat_history(input, response):\n",
    "    chat_history.save_context({\"input\": input}, {\"output\": response})\n",
    "\n",
    "def invoke(input):\n",
    "    if (input):\n",
    "        print(\"input: \" + str(input))\n",
    "        msg = {\n",
    "            \"input\": input,\n",
    "            \"chat_history\": chat_history.load_memory_variables({}),\n",
    "        }\n",
    "        print(f\"Input: {msg}\")\n",
    "\n",
    "        response = agent_executor.invoke(msg)\n",
    "        print(f\"Response: {response}\")\n",
    "\n",
    "        append_chat_history(response[\"input\"], response[\"output\"])\n",
    "        print(f\"History: {chat_history.load_memory_variables({})}\")\n",
    "\n",
    "        return response[\"output\"]\n",
    "    else:\n",
    "        return \"\""
   ]
  },
  {
   "cell_type": "code",
   "execution_count": 48,
   "id": "ghjHsiHpETAd",
   "metadata": {
    "colab": {
     "base_uri": "https://localhost:8080/"
    },
    "executionInfo": {
     "elapsed": 3086,
     "status": "ok",
     "timestamp": 1730321804540,
     "user": {
      "displayName": "",
      "userId": ""
     },
     "user_tz": 240
    },
    "id": "ghjHsiHpETAd",
    "outputId": "0b4e09b8-89e7-4871-f3c9-f6b9741ed37a",
    "tags": []
   },
   "outputs": [
    {
     "name": "stdout",
     "output_type": "stream",
     "text": [
      "input: Hi\n",
      "Input: {'input': 'Hi', 'chat_history': {'history': ''}}\n",
      "\n",
      "\n",
      "\u001b[1m> Entering new AgentExecutor chain...\u001b[0m\n",
      "\u001b[32;1m\u001b[1;3mThought: Do I need to use a tool? No\n",
      "Final Answer: Hi there! How can I help you today?\n",
      "! How can I help you today?\n",
      "\u001b[0m\n",
      "\n",
      "\u001b[1m> Finished chain.\u001b[0m\n",
      "Response: {'input': 'Hi', 'chat_history': {'history': ''}, 'output': 'Hi there! How can I help you today?\\n! How can I help you today?'}\n",
      "History: {'history': 'Human: Hi\\nAI: Hi there! How can I help you today?\\n! How can I help you today?'}\n",
      "input: files/customer-comments.csv\n",
      "\n",
      " how many rows have positive sentiment vs negative sentiment?\n",
      "Input: {'input': 'files/customer-comments.csv\\n\\n how many rows have positive sentiment vs negative sentiment?', 'chat_history': {'history': 'Human: Hi\\nAI: Hi there! How can I help you today?\\n! How can I help you today?'}}\n",
      "\n",
      "\n",
      "\u001b[1m> Entering new AgentExecutor chain...\u001b[0m\n",
      "\u001b[32;1m\u001b[1;3mThought: Do I need to use a tool? Yes\n",
      "Action: csv_summary_statistics\n",
      "Action Input: {\"csv_input_file\": \"files/customer-comments.csv\"}\u001b[0m\u001b[33;1m\u001b[1;3mfirst few rows of data: \n",
      "   index                                       comment country\n",
      "0      1                  The product arrived damaged.      US\n",
      "1      2              I'm very happy with the service!  Mexico\n",
      "2      3             I have a question about my order.  Canada\n",
      "3      4                        The delivery was late.      US\n",
      "4      5  The customer support agent was very helpful.  Canada\n",
      "\n",
      "information on the data:              index                       comment country\n",
      "count   100.000000                           100     100\n",
      "unique         NaN                            15       3\n",
      "top            NaN  The product arrived damaged.      US\n",
      "freq           NaN                             7      42\n",
      "mean     50.500000                           NaN     NaN\n",
      "std      29.011492                           NaN     NaN\n",
      "min       1.000000                           NaN     NaN\n",
      "25%      25.750000                           NaN     NaN\n",
      "50%      50.500000                           NaN     NaN\n",
      "75%      75.250000                           NaN     NaN\n",
      "max     100.000000                           NaN     NaN\u001b[0m\u001b[32;1m\u001b[1;3mDo I need to use a tool? Yes\n",
      "Action: generate_column\n",
      "Action Input: {\"csv_input_file\": \"files/customer-comments.csv\", \"prompt_instructions\": \"Categorize the sentiment of the customer comment as either positive, negative, or neutral.  Comment:\\n```\\n\", \"column_name\": \"sentiment\"}\u001b[0m\u001b[38;5;200m\u001b[1;3mError: Could not load data or evaluate expression. ufunc 'add' did not contain a loop with signature matching types (dtype('<U106'), dtype('int64')) -> None\u001b[0m\u001b[32;1m\u001b[1;3mDo I need to use a tool? Yes\n",
      "Action: generate_column\n",
      "Action Input: {\"csv_input_file\": \"files/customer-comments.csv\", \"prompt_instructions\": \"Categorize the sentiment of the customer comment as either positive, negative, or neutral.\\nComment:\\n```\\n\", \"column_name\": \"sentiment\"}\u001b[0m\u001b[38;5;200m\u001b[1;3mError: Could not load data or evaluate expression. ufunc 'add' did not contain a loop with signature matching types (dtype('<U105'), dtype('int64')) -> None\u001b[0m\u001b[32;1m\u001b[1;3mDo I need to use a tool? Yes\n",
      "Action: generate_column\n",
      "Action Input: {\"csv_input_file\": \"files/customer-comments.csv\", \"prompt_instructions\": \"Categorize the sentiment of the following customer comment as either positive, negative, or neutral.\\nCustomer Comment:\\n```\\n\", \"column_name\": \"sentiment\"}\u001b[0m\u001b[38;5;200m\u001b[1;3mError: Could not load data or evaluate expression. ufunc 'add' did not contain a loop with signature matching types (dtype('<U124'), dtype('int64')) -> None\u001b[0m\u001b[32;1m\u001b[1;3mDo I need to use a tool? Yes\n",
      "Action: generate_column\n",
      "Action Input: {\"csv_input_file\": \"files/customer-comments.csv\", \"prompt_instructions\": \"Categorize the sentiment of the following customer comment as either positive, negative, or neutral.\\nCustomer Comment:\\n```\\n\", \"column_name\": \"sentiment_analysis\"}\u001b[0m\u001b[38;5;200m\u001b[1;3mError: Could not load data or evaluate expression. ufunc 'add' did not contain a loop with signature matching types (dtype('<U124'), dtype('int64')) -> None\u001b[0m\u001b[32;1m\u001b[1;3m\u001b[0m\n",
      "\n",
      "\u001b[1m> Finished chain.\u001b[0m\n",
      "Response: {'input': 'files/customer-comments.csv\\n\\n how many rows have positive sentiment vs negative sentiment?', 'chat_history': {'history': 'Human: Hi\\nAI: Hi there! How can I help you today?\\n! How can I help you today?'}, 'output': 'Agent stopped due to iteration limit or time limit.'}\n",
      "History: {'history': 'Human: Hi\\nAI: Hi there! How can I help you today?\\n! How can I help you today?\\nHuman: files/customer-comments.csv\\n\\n how many rows have positive sentiment vs negative sentiment?\\nAI: Agent stopped due to iteration limit or time limit.'}\n"
     ]
    },
    {
     "data": {
      "text/plain": [
       "'Agent stopped due to iteration limit or time limit.'"
      ]
     },
     "execution_count": 48,
     "metadata": {},
     "output_type": "execute_result"
    }
   ],
   "source": [
    "invoke(\"Hi\")\n",
    "invoke(CSV_FILE + \"\\n\\n how many rows have positive sentiment vs negative sentiment?\")"
   ]
  },
  {
   "cell_type": "code",
   "execution_count": 10,
   "id": "eVrNIXm9MHtm",
   "metadata": {
    "colab": {
     "base_uri": "https://localhost:8080/"
    },
    "collapsed": true,
    "executionInfo": {
     "elapsed": 3492,
     "status": "ok",
     "timestamp": 1730321808028,
     "user": {
      "displayName": "",
      "userId": ""
     },
     "user_tz": 240
    },
    "id": "eVrNIXm9MHtm",
    "jupyter": {
     "outputs_hidden": true
    },
    "outputId": "caf99249-d308-4d8c-81fd-cba6a9fb7348",
    "tags": []
   },
   "outputs": [
    {
     "name": "stdout",
     "output_type": "stream",
     "text": [
      "input: can you count how many rows are from the US?\n",
      "Input: {'input': 'can you count how many rows are from the US?', 'chat_history': {'history': 'Human: Hi\\nAI: Hello! How can I help you today?\\n How can I help you today?\\nHuman: files/customer-comments.csv\\n\\n how many rows are in this file?\\nAI: There are 100 rows in the file.\\n00 rows in the file.'}}\n",
      "\n",
      "\n",
      "\u001b[1m> Entering new AgentExecutor chain...\u001b[0m\n",
      "\u001b[32;1m\u001b[1;3mThought: Do I need to use a tool? Yes\n",
      "Action: csv_summary_statistics\n",
      "Action Input: {\"csv_input_file\": \"files/customer-comments.csv\"}\u001b[0m{\"csv_input_file\": \"files/customer-comments.csv\"}\n",
      "\u001b[33;1m\u001b[1;3msample data: \n",
      "   index                                       comment country\n",
      "0      1                  The product arrived damaged.      US\n",
      "1      2              I'm very happy with the service!  Mexico\n",
      "2      3             I have a question about my order.  Canada\n",
      "3      4                        The delivery was late.      US\n",
      "4      5  The customer support agent was very helpful.  Canada\n",
      "\n",
      "\u001b[0m\u001b[32;1m\u001b[1;3mDo I need to use a tool? Yes\n",
      "Action: pandas_calculator\n",
      "Action Input: {\"expr\": \"df[df['country'] == 'US'].shape[0]\", \"csv_file_path\": \"files/customer-comments.csv\"}\u001b[0m    index                                       comment country\n",
      "0       1                  The product arrived damaged.      US\n",
      "1       2              I'm very happy with the service!  Mexico\n",
      "2       3             I have a question about my order.  Canada\n",
      "3       4                        The delivery was late.      US\n",
      "4       5  The customer support agent was very helpful.  Canada\n",
      "..    ...                                           ...     ...\n",
      "95     96   I'm not satisfied with the product quality.      US\n",
      "96     97                     I need to return an item.  Canada\n",
      "97     98                   The website is easy to use.  Mexico\n",
      "98     99     I couldn't find the information I needed.      US\n",
      "99    100                        The price is too high.      US\n",
      "\n",
      "[100 rows x 3 columns]\n",
      "\u001b[36;1m\u001b[1;3m42\u001b[0m\u001b[32;1m\u001b[1;3mDo I need to use a tool? No\n",
      "Final Answer: There are 42 rows from the US.\n",
      "2 rows from the US.\n",
      "\u001b[0m\n",
      "\n",
      "\u001b[1m> Finished chain.\u001b[0m\n",
      "Response: {'input': 'can you count how many rows are from the US?', 'chat_history': {'history': 'Human: Hi\\nAI: Hello! How can I help you today?\\n How can I help you today?\\nHuman: files/customer-comments.csv\\n\\n how many rows are in this file?\\nAI: There are 100 rows in the file.\\n00 rows in the file.'}, 'output': 'There are 42 rows from the US.\\n2 rows from the US.'}\n",
      "History: {'history': 'Human: Hi\\nAI: Hello! How can I help you today?\\n How can I help you today?\\nHuman: files/customer-comments.csv\\n\\n how many rows are in this file?\\nAI: There are 100 rows in the file.\\n00 rows in the file.\\nHuman: can you count how many rows are from the US?\\nAI: There are 42 rows from the US.\\n2 rows from the US.'}\n"
     ]
    },
    {
     "data": {
      "text/plain": [
       "'There are 42 rows from the US.\\n2 rows from the US.'"
      ]
     },
     "execution_count": 10,
     "metadata": {},
     "output_type": "execute_result"
    }
   ],
   "source": [
    "invoke(\"can you count how many rows are from the US?\")"
   ]
  },
  {
   "cell_type": "code",
   "execution_count": 11,
   "id": "-VK9OdHeM4e8",
   "metadata": {
    "colab": {
     "base_uri": "https://localhost:8080/"
    },
    "collapsed": true,
    "executionInfo": {
     "elapsed": 3662,
     "status": "ok",
     "timestamp": 1730321837264,
     "user": {
      "displayName": "",
      "userId": ""
     },
     "user_tz": 240
    },
    "id": "-VK9OdHeM4e8",
    "jupyter": {
     "outputs_hidden": true
    },
    "outputId": "707a5b02-6233-4c4c-c4e0-ed0654b6e115",
    "tags": []
   },
   "outputs": [
    {
     "name": "stdout",
     "output_type": "stream",
     "text": [
      "input: how many rows include the word product?\n",
      "Input: {'input': 'how many rows include the word product?', 'chat_history': {'history': 'Human: Hi\\nAI: Hello! How can I help you today?\\n How can I help you today?\\nHuman: files/customer-comments.csv\\n\\n how many rows are in this file?\\nAI: There are 100 rows in the file.\\n00 rows in the file.\\nHuman: can you count how many rows are from the US?\\nAI: There are 42 rows from the US.\\n2 rows from the US.'}}\n",
      "\n",
      "\n",
      "\u001b[1m> Entering new AgentExecutor chain...\u001b[0m\n",
      "\u001b[32;1m\u001b[1;3mThought: Do I need to use a tool? Yes\n",
      "Action: pandas_calculator\n",
      "Action Input: {\"expr\": \"df['Comments'].str.contains('product').sum()\", \"csv_file_path\": \"files/customer-comments.csv\"}\u001b[0m    index                                       comment country\n",
      "0       1                  The product arrived damaged.      US\n",
      "1       2              I'm very happy with the service!  Mexico\n",
      "2       3             I have a question about my order.  Canada\n",
      "3       4                        The delivery was late.      US\n",
      "4       5  The customer support agent was very helpful.  Canada\n",
      "..    ...                                           ...     ...\n",
      "95     96   I'm not satisfied with the product quality.      US\n",
      "96     97                     I need to return an item.  Canada\n",
      "97     98                   The website is easy to use.  Mexico\n",
      "98     99     I couldn't find the information I needed.      US\n",
      "99    100                        The price is too high.      US\n",
      "\n",
      "[100 rows x 3 columns]\n",
      "\u001b[36;1m\u001b[1;3mError: Could not load data or evaluate expression. 'Comments'\u001b[0m\u001b[32;1m\u001b[1;3mDo I need to use a tool? Yes\n",
      "Action: csv_summary_statistics\n",
      "Action Input: {\"csv_input_file\": \"files/customer-comments.csv\"}\u001b[0m{\"csv_input_file\": \"files/customer-comments.csv\"}\n",
      "\u001b[33;1m\u001b[1;3msample data: \n",
      "   index                                       comment country\n",
      "0      1                  The product arrived damaged.      US\n",
      "1      2              I'm very happy with the service!  Mexico\n",
      "2      3             I have a question about my order.  Canada\n",
      "3      4                        The delivery was late.      US\n",
      "4      5  The customer support agent was very helpful.  Canada\n",
      "\n",
      "\u001b[0m\u001b[32;1m\u001b[1;3mDo I need to use a tool? Yes\n",
      "Action: pandas_calculator\n",
      "Action Input: {\"expr\": \"df['comment'].str.contains('product').sum()\", \"csv_file_path\": \"files/customer-comments.csv\"}\u001b[0m    index                                       comment country\n",
      "0       1                  The product arrived damaged.      US\n",
      "1       2              I'm very happy with the service!  Mexico\n",
      "2       3             I have a question about my order.  Canada\n",
      "3       4                        The delivery was late.      US\n",
      "4       5  The customer support agent was very helpful.  Canada\n",
      "..    ...                                           ...     ...\n",
      "95     96   I'm not satisfied with the product quality.      US\n",
      "96     97                     I need to return an item.  Canada\n",
      "97     98                   The website is easy to use.  Mexico\n",
      "98     99     I couldn't find the information I needed.      US\n",
      "99    100                        The price is too high.      US\n",
      "\n",
      "[100 rows x 3 columns]\n",
      "\u001b[36;1m\u001b[1;3m26\u001b[0m\u001b[32;1m\u001b[1;3mDo I need to use a tool? No\n",
      "Final Answer: There are 26 rows that include the word \"product\".\n",
      "6 rows that include the word \"product\".\n",
      "\u001b[0m\n",
      "\n",
      "\u001b[1m> Finished chain.\u001b[0m\n",
      "Response: {'input': 'how many rows include the word product?', 'chat_history': {'history': 'Human: Hi\\nAI: Hello! How can I help you today?\\n How can I help you today?\\nHuman: files/customer-comments.csv\\n\\n how many rows are in this file?\\nAI: There are 100 rows in the file.\\n00 rows in the file.\\nHuman: can you count how many rows are from the US?\\nAI: There are 42 rows from the US.\\n2 rows from the US.'}, 'output': 'There are 26 rows that include the word \"product\".\\n6 rows that include the word \"product\".'}\n",
      "History: {'history': 'Human: Hi\\nAI: Hello! How can I help you today?\\n How can I help you today?\\nHuman: files/customer-comments.csv\\n\\n how many rows are in this file?\\nAI: There are 100 rows in the file.\\n00 rows in the file.\\nHuman: can you count how many rows are from the US?\\nAI: There are 42 rows from the US.\\n2 rows from the US.\\nHuman: how many rows include the word product?\\nAI: There are 26 rows that include the word \"product\".\\n6 rows that include the word \"product\".'}\n"
     ]
    },
    {
     "data": {
      "text/plain": [
       "'There are 26 rows that include the word \"product\".\\n6 rows that include the word \"product\".'"
      ]
     },
     "execution_count": 11,
     "metadata": {},
     "output_type": "execute_result"
    }
   ],
   "source": [
    "invoke(\"how many rows include the word product?\")"
   ]
  },
  {
   "cell_type": "code",
   "execution_count": 12,
   "id": "8Yv3T5r8N9uR",
   "metadata": {
    "colab": {
     "base_uri": "https://localhost:8080/"
    },
    "collapsed": true,
    "executionInfo": {
     "elapsed": 5007,
     "status": "ok",
     "timestamp": 1730321954768,
     "user": {
      "displayName": "",
      "userId": ""
     },
     "user_tz": 240
    },
    "id": "8Yv3T5r8N9uR",
    "jupyter": {
     "outputs_hidden": true
    },
    "outputId": "5ad0ebd7-a8e4-44f8-af12-c03a76e825a2",
    "tags": []
   },
   "outputs": [
    {
     "name": "stdout",
     "output_type": "stream",
     "text": [
      "input: how many rows are positive and how many are negative sentiment?\n",
      "Input: {'input': 'how many rows are positive and how many are negative sentiment?', 'chat_history': {'history': 'Human: Hi\\nAI: Hello! How can I help you today?\\n How can I help you today?\\nHuman: files/customer-comments.csv\\n\\n how many rows are in this file?\\nAI: There are 100 rows in the file.\\n00 rows in the file.\\nHuman: can you count how many rows are from the US?\\nAI: There are 42 rows from the US.\\n2 rows from the US.\\nHuman: how many rows include the word product?\\nAI: There are 26 rows that include the word \"product\".\\n6 rows that include the word \"product\".'}}\n",
      "\n",
      "\n",
      "\u001b[1m> Entering new AgentExecutor chain...\u001b[0m\n",
      "\u001b[32;1m\u001b[1;3mThought: Do I need to use a tool? Yes\n",
      "Action: pandas_calculator\n",
      "Action Input: {\"expr\": \"df['Sentiment'].value_counts()\", \"csv_file_path\": \"files/customer-comments.csv\"}\u001b[0m    index                                       comment country\n",
      "0       1                  The product arrived damaged.      US\n",
      "1       2              I'm very happy with the service!  Mexico\n",
      "2       3             I have a question about my order.  Canada\n",
      "3       4                        The delivery was late.      US\n",
      "4       5  The customer support agent was very helpful.  Canada\n",
      "..    ...                                           ...     ...\n",
      "95     96   I'm not satisfied with the product quality.      US\n",
      "96     97                     I need to return an item.  Canada\n",
      "97     98                   The website is easy to use.  Mexico\n",
      "98     99     I couldn't find the information I needed.      US\n",
      "99    100                        The price is too high.      US\n",
      "\n",
      "[100 rows x 3 columns]\n",
      "\u001b[36;1m\u001b[1;3mError: Could not load data or evaluate expression. 'Sentiment'\u001b[0m\u001b[32;1m\u001b[1;3mDo I need to use a tool? Yes\n",
      "Action: csv_summary_statistics\n",
      "Action Input: {\"csv_input_file\": \"files/customer-comments.csv\"}\u001b[0m{\"csv_input_file\": \"files/customer-comments.csv\"}\n",
      "\u001b[33;1m\u001b[1;3msample data: \n",
      "   index                                       comment country\n",
      "0      1                  The product arrived damaged.      US\n",
      "1      2              I'm very happy with the service!  Mexico\n",
      "2      3             I have a question about my order.  Canada\n",
      "3      4                        The delivery was late.      US\n",
      "4      5  The customer support agent was very helpful.  Canada\n",
      "\n",
      "\u001b[0m\u001b[32;1m\u001b[1;3mDo I need to use a tool? Yes\n",
      "Action: pandas_calculator\n",
      "Action Input: {\"expr\": \"df['comment'].str.contains('positive').sum()\", \"csv_file_path\": \"files/customer-comments.csv\"}\u001b[0m    index                                       comment country\n",
      "0       1                  The product arrived damaged.      US\n",
      "1       2              I'm very happy with the service!  Mexico\n",
      "2       3             I have a question about my order.  Canada\n",
      "3       4                        The delivery was late.      US\n",
      "4       5  The customer support agent was very helpful.  Canada\n",
      "..    ...                                           ...     ...\n",
      "95     96   I'm not satisfied with the product quality.      US\n",
      "96     97                     I need to return an item.  Canada\n",
      "97     98                   The website is easy to use.  Mexico\n",
      "98     99     I couldn't find the information I needed.      US\n",
      "99    100                        The price is too high.      US\n",
      "\n",
      "[100 rows x 3 columns]\n",
      "\u001b[36;1m\u001b[1;3m0\u001b[0m\u001b[32;1m\u001b[1;3mDo I need to use a tool? Yes\n",
      "Action: pandas_calculator\n",
      "Action Input: {\"expr\": \"df['comment'].str.contains('negative').sum()\", \"csv_file_path\": \"files/customer-comments.csv\"}\u001b[0m    index                                       comment country\n",
      "0       1                  The product arrived damaged.      US\n",
      "1       2              I'm very happy with the service!  Mexico\n",
      "2       3             I have a question about my order.  Canada\n",
      "3       4                        The delivery was late.      US\n",
      "4       5  The customer support agent was very helpful.  Canada\n",
      "..    ...                                           ...     ...\n",
      "95     96   I'm not satisfied with the product quality.      US\n",
      "96     97                     I need to return an item.  Canada\n",
      "97     98                   The website is easy to use.  Mexico\n",
      "98     99     I couldn't find the information I needed.      US\n",
      "99    100                        The price is too high.      US\n",
      "\n",
      "[100 rows x 3 columns]\n",
      "\u001b[36;1m\u001b[1;3m0\u001b[0m\u001b[32;1m\u001b[1;3mDo I need to use a tool? No\n",
      "Final Answer: There are no rows explicitly marked with \"positive\" or \"negative\".  The data doesn't seem to directly contain sentiment labels. To properly analyze sentiment, I would need additional information or a model trained to detect sentiment in text.\n",
      " seem to directly contain sentiment labels. To properly analyze sentiment, I would need additional information or a model trained to detect sentiment in text.\n",
      "\u001b[0m\n",
      "\n",
      "\u001b[1m> Finished chain.\u001b[0m\n",
      "Response: {'input': 'how many rows are positive and how many are negative sentiment?', 'chat_history': {'history': 'Human: Hi\\nAI: Hello! How can I help you today?\\n How can I help you today?\\nHuman: files/customer-comments.csv\\n\\n how many rows are in this file?\\nAI: There are 100 rows in the file.\\n00 rows in the file.\\nHuman: can you count how many rows are from the US?\\nAI: There are 42 rows from the US.\\n2 rows from the US.\\nHuman: how many rows include the word product?\\nAI: There are 26 rows that include the word \"product\".\\n6 rows that include the word \"product\".'}, 'output': 'There are no rows explicitly marked with \"positive\" or \"negative\".  The data doesn\\'t seem to directly contain sentiment labels. To properly analyze sentiment, I would need additional information or a model trained to detect sentiment in text.\\n seem to directly contain sentiment labels. To properly analyze sentiment, I would need additional information or a model trained to detect sentiment in text.'}\n",
      "History: {'history': 'Human: Hi\\nAI: Hello! How can I help you today?\\n How can I help you today?\\nHuman: files/customer-comments.csv\\n\\n how many rows are in this file?\\nAI: There are 100 rows in the file.\\n00 rows in the file.\\nHuman: can you count how many rows are from the US?\\nAI: There are 42 rows from the US.\\n2 rows from the US.\\nHuman: how many rows include the word product?\\nAI: There are 26 rows that include the word \"product\".\\n6 rows that include the word \"product\".\\nHuman: how many rows are positive and how many are negative sentiment?\\nAI: There are no rows explicitly marked with \"positive\" or \"negative\".  The data doesn\\'t seem to directly contain sentiment labels. To properly analyze sentiment, I would need additional information or a model trained to detect sentiment in text.\\n seem to directly contain sentiment labels. To properly analyze sentiment, I would need additional information or a model trained to detect sentiment in text.'}\n"
     ]
    },
    {
     "data": {
      "text/plain": [
       "'There are no rows explicitly marked with \"positive\" or \"negative\".  The data doesn\\'t seem to directly contain sentiment labels. To properly analyze sentiment, I would need additional information or a model trained to detect sentiment in text.\\n seem to directly contain sentiment labels. To properly analyze sentiment, I would need additional information or a model trained to detect sentiment in text.'"
      ]
     },
     "execution_count": 12,
     "metadata": {},
     "output_type": "execute_result"
    }
   ],
   "source": [
    "invoke(\"how many rows are positive and how many are negative sentiment?\")"
   ]
  },
  {
   "cell_type": "markdown",
   "id": "2caf62bb-2a3a-4c30-b99e-7c7a6335053e",
   "metadata": {},
   "source": [
    "## Create UI for the Chatbot"
   ]
  },
  {
   "cell_type": "code",
   "execution_count": 22,
   "id": "7592f475-335d-4c8d-9d9a-a68e8ede86cb",
   "metadata": {},
   "outputs": [
    {
     "data": {
      "application/vnd.jupyter.widget-view+json": {
       "model_id": "d8fc5fc44cad43cca4650d9161825116",
       "version_major": 2,
       "version_minor": 0
      },
      "text/plain": [
       "Output()"
      ]
     },
     "metadata": {},
     "output_type": "display_data"
    },
    {
     "data": {
      "application/vnd.jupyter.widget-view+json": {
       "model_id": "4499907b36ec4198a9ce9d3b452466b8",
       "version_major": 2,
       "version_minor": 0
      },
      "text/plain": [
       "HBox(children=(Textarea(value='', layout=Layout(width='100%'), placeholder='Enter text here...'), Button(descr…"
      ]
     },
     "metadata": {},
     "output_type": "display_data"
    },
    {
     "data": {
      "text/html": [
       "\n",
       "<script>\n",
       "  const textArea = document.querySelector('.jupyter-widgets-output-area textarea');\n",
       "  textArea.addEventListener('keydown', (event) => {\n",
       "    if (event.key === 'Enter' && !event.shiftKey) {\n",
       "      event.preventDefault(); // Prevent adding a newline in the textarea\n",
       "      document.querySelector('.jupyter-widgets-output-area button').click();\n",
       "    }\n",
       "  });\n",
       "</script>\n"
      ],
      "text/plain": [
       "<IPython.core.display.HTML object>"
      ]
     },
     "metadata": {},
     "output_type": "display_data"
    }
   ],
   "source": [
    "import ipywidgets as widgets\n",
    "from IPython.display import display, clear_output, HTML\n",
    "\n",
    "\n",
    "# Create text box for user input\n",
    "user_input = widgets.Textarea(\n",
    "    value='',\n",
    "    placeholder='Enter text here...',\n",
    "    layout=widgets.Layout(width='100%')\n",
    ")\n",
    "\n",
    "# Create output area for conversation display\n",
    "conversation_history = widgets.Output()\n",
    "display(conversation_history)\n",
    "\n",
    "# Create button for user to click to send their message\n",
    "send_button = widgets.Button(description='Send')\n",
    "\n",
    "def send_button_clicked(b):\n",
    "    with conversation_history:\n",
    "        # User message with gray bubble\n",
    "        user_message = f\"\"\"\n",
    "        <div style=\"display: flex; align-items: flex-start;\">\n",
    "            <div style=\"background-color: lightgray; padding: 10px; border-radius: 10px; margin-right: 10px;\">\n",
    "                {user_input.value}\n",
    "            </div>\n",
    "        </div>\n",
    "        \"\"\"\n",
    "        display(HTML(user_message))\n",
    "\n",
    "        # Get chatbot response\n",
    "        response = invoke(user_input.value)\n",
    "\n",
    "        # AI response with blue bubble\n",
    "        ai_message = f\"\"\"\n",
    "        <div style=\"display: flex; align-items: flex-start; justify-content: flex-end;\">\n",
    "            <div style=\"background-color: lightblue; padding: 10px; border-radius: 10px; margin-left: 10px;\">\n",
    "                {response}\n",
    "            </div>\n",
    "        </div>\n",
    "        \"\"\"\n",
    "        display(HTML(ai_message))\n",
    "\n",
    "        # Clear user input box\n",
    "        user_input.value = ''\n",
    "\n",
    "send_button.on_click(send_button_clicked)\n",
    "\n",
    "# Display the input box and send button\n",
    "display(widgets.HBox([user_input, send_button]))"
   ]
  }
 ],
 "metadata": {
  "colab": {
   "name": "csv_analyzer",
   "provenance": []
  },
  "environment": {
   "kernel": "conda-base-py",
   "name": "workbench-notebooks.m125",
   "type": "gcloud",
   "uri": "us-docker.pkg.dev/deeplearning-platform-release/gcr.io/workbench-notebooks:m125"
  },
  "kernelspec": {
   "display_name": "Python 3 (ipykernel)",
   "language": "python",
   "name": "conda-base-py"
  },
  "language_info": {
   "codemirror_mode": {
    "name": "ipython",
    "version": 3
   },
   "file_extension": ".py",
   "mimetype": "text/x-python",
   "name": "python",
   "nbconvert_exporter": "python",
   "pygments_lexer": "ipython3",
   "version": "3.10.15"
  }
 },
 "nbformat": 4,
 "nbformat_minor": 5
}
