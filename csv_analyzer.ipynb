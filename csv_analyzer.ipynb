{
 "cells": [
  {
   "cell_type": "markdown",
   "id": "2mdBNzaq8XW2",
   "metadata": {
    "id": "2mdBNzaq8XW2"
   },
   "source": [
    "# CSV Analyzer\n"
   ]
  },
  {
   "cell_type": "markdown",
   "id": "4ea575b2-3a61-43ae-9454-e515d4d377cf",
   "metadata": {
    "tags": []
   },
   "source": [
    "Generative Question and Answer (QnA) analyzer of csv files. The focus is on small csv files (100s or 1000s of rows) where traditionally users are doing analysis on a spreadsheet but want a more interactive way to do their analysis. \n",
    "\n",
    "Today you can drop a csv on your LLM of choice and can get answers to some complex questions that focus on language summarization tasks like topic categorization, sentiment analysis, sampling of data. Where LLM usually fail is in doing computation of your data i.e. filtering, aggregation, counts etc. \n",
    "\n",
    "In order to overcome this drawback we are taking advantage of an agentic approach while giving it access to a pandas runner. This allows the agent the ability to run computations via pandas commands. The agent will use a reAct framework to be able to think through the problem and access the pandas dataframe only when necessary. "
   ]
  },
  {
   "cell_type": "markdown",
   "id": "gncZnt8YwkTS",
   "metadata": {
    "id": "gncZnt8YwkTS"
   },
   "source": [
    "# SetUp"
   ]
  },
  {
   "cell_type": "markdown",
   "id": "Nwtoa1WKsSlSj4VrqdEY8LId",
   "metadata": {
    "id": "Nwtoa1WKsSlSj4VrqdEY8LId",
    "tags": []
   },
   "source": [
    "Install the Langchain packages: Open a terminal window and enter the command below"
   ]
  },
  {
   "cell_type": "code",
   "execution_count": 22,
   "id": "qsskCvGUcbn34hNAWisBS4Uk",
   "metadata": {
    "colab": {
     "base_uri": "https://localhost:8080/",
     "height": 1000
    },
    "executionInfo": {
     "elapsed": 46113,
     "status": "ok",
     "timestamp": 1730319297839,
     "user": {
      "displayName": "",
      "userId": ""
     },
     "user_tz": 240
    },
    "id": "qsskCvGUcbn34hNAWisBS4Uk",
    "outputId": "fc4d3234-5fe5-44ea-8dba-f70683408d49",
    "tags": []
   },
   "outputs": [
    {
     "name": "stdout",
     "output_type": "stream",
     "text": [
      "Requirement already satisfied: vertexai in /opt/conda/lib/python3.10/site-packages (1.71.1)\n",
      "Requirement already satisfied: google-cloud-aiplatform==1.71.1 in /opt/conda/lib/python3.10/site-packages (from google-cloud-aiplatform[all]==1.71.1->vertexai) (1.71.1)\n",
      "Requirement already satisfied: google-api-core!=2.0.*,!=2.1.*,!=2.2.*,!=2.3.*,!=2.4.*,!=2.5.*,!=2.6.*,!=2.7.*,<3.0.0dev,>=1.34.1 in /opt/conda/lib/python3.10/site-packages (from google-api-core[grpc]!=2.0.*,!=2.1.*,!=2.2.*,!=2.3.*,!=2.4.*,!=2.5.*,!=2.6.*,!=2.7.*,<3.0.0dev,>=1.34.1->google-cloud-aiplatform==1.71.1->google-cloud-aiplatform[all]==1.71.1->vertexai) (1.34.1)\n",
      "Requirement already satisfied: google-auth<3.0.0dev,>=2.14.1 in /opt/conda/lib/python3.10/site-packages (from google-cloud-aiplatform==1.71.1->google-cloud-aiplatform[all]==1.71.1->vertexai) (2.35.0)\n",
      "Requirement already satisfied: proto-plus<2.0.0dev,>=1.22.3 in /opt/conda/lib/python3.10/site-packages (from google-cloud-aiplatform==1.71.1->google-cloud-aiplatform[all]==1.71.1->vertexai) (1.24.0)\n",
      "Requirement already satisfied: protobuf!=4.21.0,!=4.21.1,!=4.21.2,!=4.21.3,!=4.21.4,!=4.21.5,<6.0.0dev,>=3.20.2 in /opt/conda/lib/python3.10/site-packages (from google-cloud-aiplatform==1.71.1->google-cloud-aiplatform[all]==1.71.1->vertexai) (3.20.3)\n",
      "Requirement already satisfied: packaging>=14.3 in /opt/conda/lib/python3.10/site-packages (from google-cloud-aiplatform==1.71.1->google-cloud-aiplatform[all]==1.71.1->vertexai) (24.1)\n",
      "Requirement already satisfied: google-cloud-storage<3.0.0dev,>=1.32.0 in /opt/conda/lib/python3.10/site-packages (from google-cloud-aiplatform==1.71.1->google-cloud-aiplatform[all]==1.71.1->vertexai) (2.14.0)\n",
      "Requirement already satisfied: google-cloud-bigquery!=3.20.0,<4.0.0dev,>=1.15.0 in /opt/conda/lib/python3.10/site-packages (from google-cloud-aiplatform==1.71.1->google-cloud-aiplatform[all]==1.71.1->vertexai) (3.25.0)\n",
      "Requirement already satisfied: google-cloud-resource-manager<3.0.0dev,>=1.3.3 in /opt/conda/lib/python3.10/site-packages (from google-cloud-aiplatform==1.71.1->google-cloud-aiplatform[all]==1.71.1->vertexai) (1.12.5)\n",
      "Requirement already satisfied: shapely<3.0.0dev in /opt/conda/lib/python3.10/site-packages (from google-cloud-aiplatform==1.71.1->google-cloud-aiplatform[all]==1.71.1->vertexai) (2.0.6)\n",
      "Requirement already satisfied: pydantic<3 in /opt/conda/lib/python3.10/site-packages (from google-cloud-aiplatform==1.71.1->google-cloud-aiplatform[all]==1.71.1->vertexai) (2.9.2)\n",
      "Requirement already satisfied: docstring-parser<1 in /opt/conda/lib/python3.10/site-packages (from google-cloud-aiplatform==1.71.1->google-cloud-aiplatform[all]==1.71.1->vertexai) (0.16)\n",
      "\u001b[33mWARNING: google-cloud-aiplatform 1.71.1 does not provide the extra 'all'\u001b[0m\u001b[33m\n",
      "\u001b[0mRequirement already satisfied: googleapis-common-protos<2.0dev,>=1.56.2 in /opt/conda/lib/python3.10/site-packages (from google-api-core!=2.0.*,!=2.1.*,!=2.2.*,!=2.3.*,!=2.4.*,!=2.5.*,!=2.6.*,!=2.7.*,<3.0.0dev,>=1.34.1->google-api-core[grpc]!=2.0.*,!=2.1.*,!=2.2.*,!=2.3.*,!=2.4.*,!=2.5.*,!=2.6.*,!=2.7.*,<3.0.0dev,>=1.34.1->google-cloud-aiplatform==1.71.1->google-cloud-aiplatform[all]==1.71.1->vertexai) (1.65.0)\n",
      "Requirement already satisfied: requests<3.0.0dev,>=2.18.0 in /opt/conda/lib/python3.10/site-packages (from google-api-core!=2.0.*,!=2.1.*,!=2.2.*,!=2.3.*,!=2.4.*,!=2.5.*,!=2.6.*,!=2.7.*,<3.0.0dev,>=1.34.1->google-api-core[grpc]!=2.0.*,!=2.1.*,!=2.2.*,!=2.3.*,!=2.4.*,!=2.5.*,!=2.6.*,!=2.7.*,<3.0.0dev,>=1.34.1->google-cloud-aiplatform==1.71.1->google-cloud-aiplatform[all]==1.71.1->vertexai) (2.32.3)\n",
      "Requirement already satisfied: grpcio<2.0dev,>=1.33.2 in /opt/conda/lib/python3.10/site-packages (from google-api-core[grpc]!=2.0.*,!=2.1.*,!=2.2.*,!=2.3.*,!=2.4.*,!=2.5.*,!=2.6.*,!=2.7.*,<3.0.0dev,>=1.34.1->google-cloud-aiplatform==1.71.1->google-cloud-aiplatform[all]==1.71.1->vertexai) (1.66.2)\n",
      "Requirement already satisfied: grpcio-status<2.0dev,>=1.33.2 in /opt/conda/lib/python3.10/site-packages (from google-api-core[grpc]!=2.0.*,!=2.1.*,!=2.2.*,!=2.3.*,!=2.4.*,!=2.5.*,!=2.6.*,!=2.7.*,<3.0.0dev,>=1.34.1->google-cloud-aiplatform==1.71.1->google-cloud-aiplatform[all]==1.71.1->vertexai) (1.48.2)\n",
      "Requirement already satisfied: cachetools<6.0,>=2.0.0 in /opt/conda/lib/python3.10/site-packages (from google-auth<3.0.0dev,>=2.14.1->google-cloud-aiplatform==1.71.1->google-cloud-aiplatform[all]==1.71.1->vertexai) (5.5.0)\n",
      "Requirement already satisfied: pyasn1-modules>=0.2.1 in /opt/conda/lib/python3.10/site-packages (from google-auth<3.0.0dev,>=2.14.1->google-cloud-aiplatform==1.71.1->google-cloud-aiplatform[all]==1.71.1->vertexai) (0.4.1)\n",
      "Requirement already satisfied: rsa<5,>=3.1.4 in /opt/conda/lib/python3.10/site-packages (from google-auth<3.0.0dev,>=2.14.1->google-cloud-aiplatform==1.71.1->google-cloud-aiplatform[all]==1.71.1->vertexai) (4.9)\n",
      "Requirement already satisfied: google-cloud-core<3.0.0dev,>=1.6.0 in /opt/conda/lib/python3.10/site-packages (from google-cloud-bigquery!=3.20.0,<4.0.0dev,>=1.15.0->google-cloud-aiplatform==1.71.1->google-cloud-aiplatform[all]==1.71.1->vertexai) (2.4.1)\n",
      "Requirement already satisfied: google-resumable-media<3.0dev,>=0.6.0 in /opt/conda/lib/python3.10/site-packages (from google-cloud-bigquery!=3.20.0,<4.0.0dev,>=1.15.0->google-cloud-aiplatform==1.71.1->google-cloud-aiplatform[all]==1.71.1->vertexai) (2.7.2)\n",
      "Requirement already satisfied: python-dateutil<3.0dev,>=2.7.2 in /opt/conda/lib/python3.10/site-packages (from google-cloud-bigquery!=3.20.0,<4.0.0dev,>=1.15.0->google-cloud-aiplatform==1.71.1->google-cloud-aiplatform[all]==1.71.1->vertexai) (2.9.0.post0)\n",
      "Requirement already satisfied: grpc-google-iam-v1<1.0.0dev,>=0.12.4 in /opt/conda/lib/python3.10/site-packages (from google-cloud-resource-manager<3.0.0dev,>=1.3.3->google-cloud-aiplatform==1.71.1->google-cloud-aiplatform[all]==1.71.1->vertexai) (0.13.1)\n",
      "Requirement already satisfied: google-crc32c<2.0dev,>=1.0 in /opt/conda/lib/python3.10/site-packages (from google-cloud-storage<3.0.0dev,>=1.32.0->google-cloud-aiplatform==1.71.1->google-cloud-aiplatform[all]==1.71.1->vertexai) (1.6.0)\n",
      "Requirement already satisfied: annotated-types>=0.6.0 in /opt/conda/lib/python3.10/site-packages (from pydantic<3->google-cloud-aiplatform==1.71.1->google-cloud-aiplatform[all]==1.71.1->vertexai) (0.7.0)\n",
      "Requirement already satisfied: pydantic-core==2.23.4 in /opt/conda/lib/python3.10/site-packages (from pydantic<3->google-cloud-aiplatform==1.71.1->google-cloud-aiplatform[all]==1.71.1->vertexai) (2.23.4)\n",
      "Requirement already satisfied: typing-extensions>=4.6.1 in /opt/conda/lib/python3.10/site-packages (from pydantic<3->google-cloud-aiplatform==1.71.1->google-cloud-aiplatform[all]==1.71.1->vertexai) (4.12.2)\n",
      "Requirement already satisfied: numpy<3,>=1.14 in /home/jupyter/.local/lib/python3.10/site-packages (from shapely<3.0.0dev->google-cloud-aiplatform==1.71.1->google-cloud-aiplatform[all]==1.71.1->vertexai) (1.24.3)\n",
      "Requirement already satisfied: pyasn1<0.7.0,>=0.4.6 in /opt/conda/lib/python3.10/site-packages (from pyasn1-modules>=0.2.1->google-auth<3.0.0dev,>=2.14.1->google-cloud-aiplatform==1.71.1->google-cloud-aiplatform[all]==1.71.1->vertexai) (0.6.1)\n",
      "Requirement already satisfied: six>=1.5 in /opt/conda/lib/python3.10/site-packages (from python-dateutil<3.0dev,>=2.7.2->google-cloud-bigquery!=3.20.0,<4.0.0dev,>=1.15.0->google-cloud-aiplatform==1.71.1->google-cloud-aiplatform[all]==1.71.1->vertexai) (1.16.0)\n",
      "Requirement already satisfied: charset-normalizer<4,>=2 in /opt/conda/lib/python3.10/site-packages (from requests<3.0.0dev,>=2.18.0->google-api-core!=2.0.*,!=2.1.*,!=2.2.*,!=2.3.*,!=2.4.*,!=2.5.*,!=2.6.*,!=2.7.*,<3.0.0dev,>=1.34.1->google-api-core[grpc]!=2.0.*,!=2.1.*,!=2.2.*,!=2.3.*,!=2.4.*,!=2.5.*,!=2.6.*,!=2.7.*,<3.0.0dev,>=1.34.1->google-cloud-aiplatform==1.71.1->google-cloud-aiplatform[all]==1.71.1->vertexai) (3.3.2)\n",
      "Requirement already satisfied: idna<4,>=2.5 in /opt/conda/lib/python3.10/site-packages (from requests<3.0.0dev,>=2.18.0->google-api-core!=2.0.*,!=2.1.*,!=2.2.*,!=2.3.*,!=2.4.*,!=2.5.*,!=2.6.*,!=2.7.*,<3.0.0dev,>=1.34.1->google-api-core[grpc]!=2.0.*,!=2.1.*,!=2.2.*,!=2.3.*,!=2.4.*,!=2.5.*,!=2.6.*,!=2.7.*,<3.0.0dev,>=1.34.1->google-cloud-aiplatform==1.71.1->google-cloud-aiplatform[all]==1.71.1->vertexai) (3.10)\n",
      "Requirement already satisfied: urllib3<3,>=1.21.1 in /opt/conda/lib/python3.10/site-packages (from requests<3.0.0dev,>=2.18.0->google-api-core!=2.0.*,!=2.1.*,!=2.2.*,!=2.3.*,!=2.4.*,!=2.5.*,!=2.6.*,!=2.7.*,<3.0.0dev,>=1.34.1->google-api-core[grpc]!=2.0.*,!=2.1.*,!=2.2.*,!=2.3.*,!=2.4.*,!=2.5.*,!=2.6.*,!=2.7.*,<3.0.0dev,>=1.34.1->google-cloud-aiplatform==1.71.1->google-cloud-aiplatform[all]==1.71.1->vertexai) (1.26.20)\n",
      "Requirement already satisfied: certifi>=2017.4.17 in /opt/conda/lib/python3.10/site-packages (from requests<3.0.0dev,>=2.18.0->google-api-core!=2.0.*,!=2.1.*,!=2.2.*,!=2.3.*,!=2.4.*,!=2.5.*,!=2.6.*,!=2.7.*,<3.0.0dev,>=1.34.1->google-api-core[grpc]!=2.0.*,!=2.1.*,!=2.2.*,!=2.3.*,!=2.4.*,!=2.5.*,!=2.6.*,!=2.7.*,<3.0.0dev,>=1.34.1->google-cloud-aiplatform==1.71.1->google-cloud-aiplatform[all]==1.71.1->vertexai) (2024.8.30)\n",
      "Requirement already satisfied: langchain-google-genai in /opt/conda/lib/python3.10/site-packages (2.0.4)\n",
      "Requirement already satisfied: google-generativeai<0.9.0,>=0.8.0 in /opt/conda/lib/python3.10/site-packages (from langchain-google-genai) (0.8.3)\n",
      "Requirement already satisfied: langchain-core<0.4,>=0.3.15 in /opt/conda/lib/python3.10/site-packages (from langchain-google-genai) (0.3.15)\n",
      "Requirement already satisfied: pydantic<3,>=2 in /opt/conda/lib/python3.10/site-packages (from langchain-google-genai) (2.9.2)\n",
      "Requirement already satisfied: google-ai-generativelanguage==0.6.10 in /opt/conda/lib/python3.10/site-packages (from google-generativeai<0.9.0,>=0.8.0->langchain-google-genai) (0.6.10)\n",
      "Requirement already satisfied: google-api-core in /opt/conda/lib/python3.10/site-packages (from google-generativeai<0.9.0,>=0.8.0->langchain-google-genai) (1.34.1)\n",
      "Requirement already satisfied: google-api-python-client in /opt/conda/lib/python3.10/site-packages (from google-generativeai<0.9.0,>=0.8.0->langchain-google-genai) (1.8.0)\n",
      "Requirement already satisfied: google-auth>=2.15.0 in /opt/conda/lib/python3.10/site-packages (from google-generativeai<0.9.0,>=0.8.0->langchain-google-genai) (2.35.0)\n",
      "Requirement already satisfied: protobuf in /opt/conda/lib/python3.10/site-packages (from google-generativeai<0.9.0,>=0.8.0->langchain-google-genai) (3.20.3)\n",
      "Requirement already satisfied: tqdm in /opt/conda/lib/python3.10/site-packages (from google-generativeai<0.9.0,>=0.8.0->langchain-google-genai) (4.66.5)\n",
      "Requirement already satisfied: typing-extensions in /opt/conda/lib/python3.10/site-packages (from google-generativeai<0.9.0,>=0.8.0->langchain-google-genai) (4.12.2)\n",
      "Requirement already satisfied: proto-plus<2.0.0dev,>=1.22.3 in /opt/conda/lib/python3.10/site-packages (from google-ai-generativelanguage==0.6.10->google-generativeai<0.9.0,>=0.8.0->langchain-google-genai) (1.24.0)\n",
      "Requirement already satisfied: PyYAML>=5.3 in /opt/conda/lib/python3.10/site-packages (from langchain-core<0.4,>=0.3.15->langchain-google-genai) (6.0.2)\n",
      "Requirement already satisfied: jsonpatch<2.0,>=1.33 in /opt/conda/lib/python3.10/site-packages (from langchain-core<0.4,>=0.3.15->langchain-google-genai) (1.33)\n",
      "Requirement already satisfied: langsmith<0.2.0,>=0.1.125 in /opt/conda/lib/python3.10/site-packages (from langchain-core<0.4,>=0.3.15->langchain-google-genai) (0.1.139)\n",
      "Requirement already satisfied: packaging<25,>=23.2 in /opt/conda/lib/python3.10/site-packages (from langchain-core<0.4,>=0.3.15->langchain-google-genai) (24.1)\n",
      "Requirement already satisfied: tenacity!=8.4.0,<10.0.0,>=8.1.0 in /opt/conda/lib/python3.10/site-packages (from langchain-core<0.4,>=0.3.15->langchain-google-genai) (9.0.0)\n",
      "Requirement already satisfied: annotated-types>=0.6.0 in /opt/conda/lib/python3.10/site-packages (from pydantic<3,>=2->langchain-google-genai) (0.7.0)\n",
      "Requirement already satisfied: pydantic-core==2.23.4 in /opt/conda/lib/python3.10/site-packages (from pydantic<3,>=2->langchain-google-genai) (2.23.4)\n",
      "Requirement already satisfied: googleapis-common-protos<2.0dev,>=1.56.2 in /opt/conda/lib/python3.10/site-packages (from google-api-core->google-generativeai<0.9.0,>=0.8.0->langchain-google-genai) (1.65.0)\n",
      "Requirement already satisfied: requests<3.0.0dev,>=2.18.0 in /opt/conda/lib/python3.10/site-packages (from google-api-core->google-generativeai<0.9.0,>=0.8.0->langchain-google-genai) (2.32.3)\n",
      "Requirement already satisfied: cachetools<6.0,>=2.0.0 in /opt/conda/lib/python3.10/site-packages (from google-auth>=2.15.0->google-generativeai<0.9.0,>=0.8.0->langchain-google-genai) (5.5.0)\n",
      "Requirement already satisfied: pyasn1-modules>=0.2.1 in /opt/conda/lib/python3.10/site-packages (from google-auth>=2.15.0->google-generativeai<0.9.0,>=0.8.0->langchain-google-genai) (0.4.1)\n",
      "Requirement already satisfied: rsa<5,>=3.1.4 in /opt/conda/lib/python3.10/site-packages (from google-auth>=2.15.0->google-generativeai<0.9.0,>=0.8.0->langchain-google-genai) (4.9)\n",
      "Requirement already satisfied: jsonpointer>=1.9 in /opt/conda/lib/python3.10/site-packages (from jsonpatch<2.0,>=1.33->langchain-core<0.4,>=0.3.15->langchain-google-genai) (3.0.0)\n",
      "Requirement already satisfied: httpx<1,>=0.23.0 in /opt/conda/lib/python3.10/site-packages (from langsmith<0.2.0,>=0.1.125->langchain-core<0.4,>=0.3.15->langchain-google-genai) (0.27.2)\n",
      "Requirement already satisfied: orjson<4.0.0,>=3.9.14 in /opt/conda/lib/python3.10/site-packages (from langsmith<0.2.0,>=0.1.125->langchain-core<0.4,>=0.3.15->langchain-google-genai) (3.10.11)\n",
      "Requirement already satisfied: requests-toolbelt<2.0.0,>=1.0.0 in /opt/conda/lib/python3.10/site-packages (from langsmith<0.2.0,>=0.1.125->langchain-core<0.4,>=0.3.15->langchain-google-genai) (1.0.0)\n",
      "Requirement already satisfied: httplib2<1dev,>=0.9.2 in /opt/conda/lib/python3.10/site-packages (from google-api-python-client->google-generativeai<0.9.0,>=0.8.0->langchain-google-genai) (0.22.0)\n",
      "Requirement already satisfied: google-auth-httplib2>=0.0.3 in /opt/conda/lib/python3.10/site-packages (from google-api-python-client->google-generativeai<0.9.0,>=0.8.0->langchain-google-genai) (0.2.0)\n",
      "Requirement already satisfied: six<2dev,>=1.6.1 in /opt/conda/lib/python3.10/site-packages (from google-api-python-client->google-generativeai<0.9.0,>=0.8.0->langchain-google-genai) (1.16.0)\n",
      "Requirement already satisfied: uritemplate<4dev,>=3.0.0 in /opt/conda/lib/python3.10/site-packages (from google-api-python-client->google-generativeai<0.9.0,>=0.8.0->langchain-google-genai) (3.0.1)\n",
      "Requirement already satisfied: grpcio<2.0dev,>=1.33.2 in /opt/conda/lib/python3.10/site-packages (from google-api-core[grpc]!=2.0.*,!=2.1.*,!=2.10.*,!=2.2.*,!=2.3.*,!=2.4.*,!=2.5.*,!=2.6.*,!=2.7.*,!=2.8.*,!=2.9.*,<3.0.0dev,>=1.34.1->google-ai-generativelanguage==0.6.10->google-generativeai<0.9.0,>=0.8.0->langchain-google-genai) (1.66.2)\n",
      "Requirement already satisfied: grpcio-status<2.0dev,>=1.33.2 in /opt/conda/lib/python3.10/site-packages (from google-api-core[grpc]!=2.0.*,!=2.1.*,!=2.10.*,!=2.2.*,!=2.3.*,!=2.4.*,!=2.5.*,!=2.6.*,!=2.7.*,!=2.8.*,!=2.9.*,<3.0.0dev,>=1.34.1->google-ai-generativelanguage==0.6.10->google-generativeai<0.9.0,>=0.8.0->langchain-google-genai) (1.48.2)\n",
      "Requirement already satisfied: pyparsing!=3.0.0,!=3.0.1,!=3.0.2,!=3.0.3,<4,>=2.4.2 in /opt/conda/lib/python3.10/site-packages (from httplib2<1dev,>=0.9.2->google-api-python-client->google-generativeai<0.9.0,>=0.8.0->langchain-google-genai) (3.1.4)\n",
      "Requirement already satisfied: anyio in /opt/conda/lib/python3.10/site-packages (from httpx<1,>=0.23.0->langsmith<0.2.0,>=0.1.125->langchain-core<0.4,>=0.3.15->langchain-google-genai) (3.7.1)\n",
      "Requirement already satisfied: certifi in /opt/conda/lib/python3.10/site-packages (from httpx<1,>=0.23.0->langsmith<0.2.0,>=0.1.125->langchain-core<0.4,>=0.3.15->langchain-google-genai) (2024.8.30)\n",
      "Requirement already satisfied: httpcore==1.* in /opt/conda/lib/python3.10/site-packages (from httpx<1,>=0.23.0->langsmith<0.2.0,>=0.1.125->langchain-core<0.4,>=0.3.15->langchain-google-genai) (1.0.6)\n",
      "Requirement already satisfied: idna in /opt/conda/lib/python3.10/site-packages (from httpx<1,>=0.23.0->langsmith<0.2.0,>=0.1.125->langchain-core<0.4,>=0.3.15->langchain-google-genai) (3.10)\n",
      "Requirement already satisfied: sniffio in /opt/conda/lib/python3.10/site-packages (from httpx<1,>=0.23.0->langsmith<0.2.0,>=0.1.125->langchain-core<0.4,>=0.3.15->langchain-google-genai) (1.3.1)\n",
      "Requirement already satisfied: h11<0.15,>=0.13 in /opt/conda/lib/python3.10/site-packages (from httpcore==1.*->httpx<1,>=0.23.0->langsmith<0.2.0,>=0.1.125->langchain-core<0.4,>=0.3.15->langchain-google-genai) (0.14.0)\n",
      "Requirement already satisfied: pyasn1<0.7.0,>=0.4.6 in /opt/conda/lib/python3.10/site-packages (from pyasn1-modules>=0.2.1->google-auth>=2.15.0->google-generativeai<0.9.0,>=0.8.0->langchain-google-genai) (0.6.1)\n",
      "Requirement already satisfied: charset-normalizer<4,>=2 in /opt/conda/lib/python3.10/site-packages (from requests<3.0.0dev,>=2.18.0->google-api-core->google-generativeai<0.9.0,>=0.8.0->langchain-google-genai) (3.3.2)\n",
      "Requirement already satisfied: urllib3<3,>=1.21.1 in /opt/conda/lib/python3.10/site-packages (from requests<3.0.0dev,>=2.18.0->google-api-core->google-generativeai<0.9.0,>=0.8.0->langchain-google-genai) (1.26.20)\n",
      "Requirement already satisfied: exceptiongroup in /opt/conda/lib/python3.10/site-packages (from anyio->httpx<1,>=0.23.0->langsmith<0.2.0,>=0.1.125->langchain-core<0.4,>=0.3.15->langchain-google-genai) (1.2.2)\n",
      "^C\n",
      "\u001b[31mERROR: Operation cancelled by user\u001b[0m\u001b[31m\n",
      "\u001b[0mRequirement already satisfied: langchain in /opt/conda/lib/python3.10/site-packages (0.3.7)\n",
      "Requirement already satisfied: PyYAML>=5.3 in /opt/conda/lib/python3.10/site-packages (from langchain) (6.0.2)\n",
      "Requirement already satisfied: SQLAlchemy<3,>=1.4 in /opt/conda/lib/python3.10/site-packages (from langchain) (2.0.35)\n",
      "Requirement already satisfied: aiohttp<4.0.0,>=3.8.3 in /opt/conda/lib/python3.10/site-packages (from langchain) (3.10.10)\n",
      "Requirement already satisfied: async-timeout<5.0.0,>=4.0.0 in /opt/conda/lib/python3.10/site-packages (from langchain) (4.0.3)\n",
      "Requirement already satisfied: langchain-core<0.4.0,>=0.3.15 in /opt/conda/lib/python3.10/site-packages (from langchain) (0.3.15)\n",
      "Requirement already satisfied: langchain-text-splitters<0.4.0,>=0.3.0 in /opt/conda/lib/python3.10/site-packages (from langchain) (0.3.2)\n",
      "Requirement already satisfied: langsmith<0.2.0,>=0.1.17 in /opt/conda/lib/python3.10/site-packages (from langchain) (0.1.139)\n",
      "Requirement already satisfied: numpy<2,>=1 in /home/jupyter/.local/lib/python3.10/site-packages (from langchain) (1.24.3)\n",
      "Requirement already satisfied: pydantic<3.0.0,>=2.7.4 in /opt/conda/lib/python3.10/site-packages (from langchain) (2.9.2)\n",
      "Requirement already satisfied: requests<3,>=2 in /opt/conda/lib/python3.10/site-packages (from langchain) (2.32.3)\n",
      "Requirement already satisfied: tenacity!=8.4.0,<10,>=8.1.0 in /opt/conda/lib/python3.10/site-packages (from langchain) (9.0.0)\n",
      "Requirement already satisfied: aiohappyeyeballs>=2.3.0 in /opt/conda/lib/python3.10/site-packages (from aiohttp<4.0.0,>=3.8.3->langchain) (2.4.3)\n",
      "Requirement already satisfied: aiosignal>=1.1.2 in /opt/conda/lib/python3.10/site-packages (from aiohttp<4.0.0,>=3.8.3->langchain) (1.3.1)\n",
      "Requirement already satisfied: attrs>=17.3.0 in /opt/conda/lib/python3.10/site-packages (from aiohttp<4.0.0,>=3.8.3->langchain) (24.2.0)\n",
      "Requirement already satisfied: frozenlist>=1.1.1 in /opt/conda/lib/python3.10/site-packages (from aiohttp<4.0.0,>=3.8.3->langchain) (1.4.1)\n",
      "Requirement already satisfied: multidict<7.0,>=4.5 in /opt/conda/lib/python3.10/site-packages (from aiohttp<4.0.0,>=3.8.3->langchain) (6.1.0)\n",
      "Requirement already satisfied: yarl<2.0,>=1.12.0 in /opt/conda/lib/python3.10/site-packages (from aiohttp<4.0.0,>=3.8.3->langchain) (1.14.0)\n",
      "Requirement already satisfied: jsonpatch<2.0,>=1.33 in /opt/conda/lib/python3.10/site-packages (from langchain-core<0.4.0,>=0.3.15->langchain) (1.33)\n",
      "Requirement already satisfied: packaging<25,>=23.2 in /opt/conda/lib/python3.10/site-packages (from langchain-core<0.4.0,>=0.3.15->langchain) (24.1)\n",
      "Requirement already satisfied: typing-extensions>=4.7 in /opt/conda/lib/python3.10/site-packages (from langchain-core<0.4.0,>=0.3.15->langchain) (4.12.2)\n",
      "Requirement already satisfied: httpx<1,>=0.23.0 in /opt/conda/lib/python3.10/site-packages (from langsmith<0.2.0,>=0.1.17->langchain) (0.27.2)\n",
      "Requirement already satisfied: orjson<4.0.0,>=3.9.14 in /opt/conda/lib/python3.10/site-packages (from langsmith<0.2.0,>=0.1.17->langchain) (3.10.11)\n",
      "Requirement already satisfied: requests-toolbelt<2.0.0,>=1.0.0 in /opt/conda/lib/python3.10/site-packages (from langsmith<0.2.0,>=0.1.17->langchain) (1.0.0)\n",
      "Requirement already satisfied: annotated-types>=0.6.0 in /opt/conda/lib/python3.10/site-packages (from pydantic<3.0.0,>=2.7.4->langchain) (0.7.0)\n",
      "Requirement already satisfied: pydantic-core==2.23.4 in /opt/conda/lib/python3.10/site-packages (from pydantic<3.0.0,>=2.7.4->langchain) (2.23.4)\n",
      "Requirement already satisfied: charset-normalizer<4,>=2 in /opt/conda/lib/python3.10/site-packages (from requests<3,>=2->langchain) (3.3.2)\n",
      "Requirement already satisfied: idna<4,>=2.5 in /opt/conda/lib/python3.10/site-packages (from requests<3,>=2->langchain) (3.10)\n",
      "Requirement already satisfied: urllib3<3,>=1.21.1 in /opt/conda/lib/python3.10/site-packages (from requests<3,>=2->langchain) (1.26.20)\n",
      "Requirement already satisfied: certifi>=2017.4.17 in /opt/conda/lib/python3.10/site-packages (from requests<3,>=2->langchain) (2024.8.30)\n",
      "Requirement already satisfied: greenlet!=0.4.17 in /opt/conda/lib/python3.10/site-packages (from SQLAlchemy<3,>=1.4->langchain) (3.1.1)\n",
      "Requirement already satisfied: anyio in /opt/conda/lib/python3.10/site-packages (from httpx<1,>=0.23.0->langsmith<0.2.0,>=0.1.17->langchain) (3.7.1)\n",
      "Requirement already satisfied: httpcore==1.* in /opt/conda/lib/python3.10/site-packages (from httpx<1,>=0.23.0->langsmith<0.2.0,>=0.1.17->langchain) (1.0.6)\n",
      "Requirement already satisfied: sniffio in /opt/conda/lib/python3.10/site-packages (from httpx<1,>=0.23.0->langsmith<0.2.0,>=0.1.17->langchain) (1.3.1)\n",
      "Requirement already satisfied: h11<0.15,>=0.13 in /opt/conda/lib/python3.10/site-packages (from httpcore==1.*->httpx<1,>=0.23.0->langsmith<0.2.0,>=0.1.17->langchain) (0.14.0)\n",
      "Requirement already satisfied: jsonpointer>=1.9 in /opt/conda/lib/python3.10/site-packages (from jsonpatch<2.0,>=1.33->langchain-core<0.4.0,>=0.3.15->langchain) (3.0.0)\n",
      "Requirement already satisfied: propcache>=0.2.0 in /opt/conda/lib/python3.10/site-packages (from yarl<2.0,>=1.12.0->aiohttp<4.0.0,>=3.8.3->langchain) (0.2.0)\n",
      "Requirement already satisfied: exceptiongroup in /opt/conda/lib/python3.10/site-packages (from anyio->httpx<1,>=0.23.0->langsmith<0.2.0,>=0.1.17->langchain) (1.2.2)\n",
      "^C\n",
      "\u001b[31mERROR: Operation cancelled by user\u001b[0m\u001b[31m\n",
      "\u001b[0mRequirement already satisfied: langchain-experimental in /opt/conda/lib/python3.10/site-packages (0.3.3)\n",
      "Requirement already satisfied: langchain-community<0.4.0,>=0.3.0 in /opt/conda/lib/python3.10/site-packages (from langchain-experimental) (0.3.5)\n",
      "Requirement already satisfied: langchain-core<0.4.0,>=0.3.15 in /opt/conda/lib/python3.10/site-packages (from langchain-experimental) (0.3.15)\n",
      "Requirement already satisfied: PyYAML>=5.3 in /opt/conda/lib/python3.10/site-packages (from langchain-community<0.4.0,>=0.3.0->langchain-experimental) (6.0.2)\n",
      "Requirement already satisfied: SQLAlchemy<2.0.36,>=1.4 in /opt/conda/lib/python3.10/site-packages (from langchain-community<0.4.0,>=0.3.0->langchain-experimental) (2.0.35)\n",
      "Requirement already satisfied: aiohttp<4.0.0,>=3.8.3 in /opt/conda/lib/python3.10/site-packages (from langchain-community<0.4.0,>=0.3.0->langchain-experimental) (3.10.10)\n",
      "Requirement already satisfied: dataclasses-json<0.7,>=0.5.7 in /opt/conda/lib/python3.10/site-packages (from langchain-community<0.4.0,>=0.3.0->langchain-experimental) (0.6.7)\n",
      "Requirement already satisfied: httpx-sse<0.5.0,>=0.4.0 in /opt/conda/lib/python3.10/site-packages (from langchain-community<0.4.0,>=0.3.0->langchain-experimental) (0.4.0)\n",
      "Requirement already satisfied: langchain<0.4.0,>=0.3.6 in /opt/conda/lib/python3.10/site-packages (from langchain-community<0.4.0,>=0.3.0->langchain-experimental) (0.3.7)\n",
      "Requirement already satisfied: langsmith<0.2.0,>=0.1.125 in /opt/conda/lib/python3.10/site-packages (from langchain-community<0.4.0,>=0.3.0->langchain-experimental) (0.1.139)\n",
      "Requirement already satisfied: numpy<2,>=1 in /home/jupyter/.local/lib/python3.10/site-packages (from langchain-community<0.4.0,>=0.3.0->langchain-experimental) (1.24.3)\n",
      "Requirement already satisfied: pydantic-settings<3.0.0,>=2.4.0 in /opt/conda/lib/python3.10/site-packages (from langchain-community<0.4.0,>=0.3.0->langchain-experimental) (2.6.1)\n",
      "Requirement already satisfied: requests<3,>=2 in /opt/conda/lib/python3.10/site-packages (from langchain-community<0.4.0,>=0.3.0->langchain-experimental) (2.32.3)\n",
      "Requirement already satisfied: tenacity!=8.4.0,<10,>=8.1.0 in /opt/conda/lib/python3.10/site-packages (from langchain-community<0.4.0,>=0.3.0->langchain-experimental) (9.0.0)\n",
      "Requirement already satisfied: jsonpatch<2.0,>=1.33 in /opt/conda/lib/python3.10/site-packages (from langchain-core<0.4.0,>=0.3.15->langchain-experimental) (1.33)\n",
      "Requirement already satisfied: packaging<25,>=23.2 in /opt/conda/lib/python3.10/site-packages (from langchain-core<0.4.0,>=0.3.15->langchain-experimental) (24.1)\n",
      "Requirement already satisfied: pydantic<3.0.0,>=2.5.2 in /opt/conda/lib/python3.10/site-packages (from langchain-core<0.4.0,>=0.3.15->langchain-experimental) (2.9.2)\n",
      "Requirement already satisfied: typing-extensions>=4.7 in /opt/conda/lib/python3.10/site-packages (from langchain-core<0.4.0,>=0.3.15->langchain-experimental) (4.12.2)\n",
      "Requirement already satisfied: aiohappyeyeballs>=2.3.0 in /opt/conda/lib/python3.10/site-packages (from aiohttp<4.0.0,>=3.8.3->langchain-community<0.4.0,>=0.3.0->langchain-experimental) (2.4.3)\n",
      "Requirement already satisfied: aiosignal>=1.1.2 in /opt/conda/lib/python3.10/site-packages (from aiohttp<4.0.0,>=3.8.3->langchain-community<0.4.0,>=0.3.0->langchain-experimental) (1.3.1)\n",
      "Requirement already satisfied: attrs>=17.3.0 in /opt/conda/lib/python3.10/site-packages (from aiohttp<4.0.0,>=3.8.3->langchain-community<0.4.0,>=0.3.0->langchain-experimental) (24.2.0)\n",
      "Requirement already satisfied: frozenlist>=1.1.1 in /opt/conda/lib/python3.10/site-packages (from aiohttp<4.0.0,>=3.8.3->langchain-community<0.4.0,>=0.3.0->langchain-experimental) (1.4.1)\n",
      "Requirement already satisfied: multidict<7.0,>=4.5 in /opt/conda/lib/python3.10/site-packages (from aiohttp<4.0.0,>=3.8.3->langchain-community<0.4.0,>=0.3.0->langchain-experimental) (6.1.0)\n",
      "Requirement already satisfied: yarl<2.0,>=1.12.0 in /opt/conda/lib/python3.10/site-packages (from aiohttp<4.0.0,>=3.8.3->langchain-community<0.4.0,>=0.3.0->langchain-experimental) (1.14.0)\n",
      "Requirement already satisfied: async-timeout<5.0,>=4.0 in /opt/conda/lib/python3.10/site-packages (from aiohttp<4.0.0,>=3.8.3->langchain-community<0.4.0,>=0.3.0->langchain-experimental) (4.0.3)\n",
      "Requirement already satisfied: marshmallow<4.0.0,>=3.18.0 in /opt/conda/lib/python3.10/site-packages (from dataclasses-json<0.7,>=0.5.7->langchain-community<0.4.0,>=0.3.0->langchain-experimental) (3.23.1)\n",
      "Requirement already satisfied: typing-inspect<1,>=0.4.0 in /opt/conda/lib/python3.10/site-packages (from dataclasses-json<0.7,>=0.5.7->langchain-community<0.4.0,>=0.3.0->langchain-experimental) (0.9.0)\n",
      "Requirement already satisfied: jsonpointer>=1.9 in /opt/conda/lib/python3.10/site-packages (from jsonpatch<2.0,>=1.33->langchain-core<0.4.0,>=0.3.15->langchain-experimental) (3.0.0)\n",
      "Requirement already satisfied: langchain-text-splitters<0.4.0,>=0.3.0 in /opt/conda/lib/python3.10/site-packages (from langchain<0.4.0,>=0.3.6->langchain-community<0.4.0,>=0.3.0->langchain-experimental) (0.3.2)\n",
      "Requirement already satisfied: httpx<1,>=0.23.0 in /opt/conda/lib/python3.10/site-packages (from langsmith<0.2.0,>=0.1.125->langchain-community<0.4.0,>=0.3.0->langchain-experimental) (0.27.2)\n",
      "Requirement already satisfied: orjson<4.0.0,>=3.9.14 in /opt/conda/lib/python3.10/site-packages (from langsmith<0.2.0,>=0.1.125->langchain-community<0.4.0,>=0.3.0->langchain-experimental) (3.10.11)\n",
      "Requirement already satisfied: requests-toolbelt<2.0.0,>=1.0.0 in /opt/conda/lib/python3.10/site-packages (from langsmith<0.2.0,>=0.1.125->langchain-community<0.4.0,>=0.3.0->langchain-experimental) (1.0.0)\n",
      "Requirement already satisfied: annotated-types>=0.6.0 in /opt/conda/lib/python3.10/site-packages (from pydantic<3.0.0,>=2.5.2->langchain-core<0.4.0,>=0.3.15->langchain-experimental) (0.7.0)\n",
      "Requirement already satisfied: pydantic-core==2.23.4 in /opt/conda/lib/python3.10/site-packages (from pydantic<3.0.0,>=2.5.2->langchain-core<0.4.0,>=0.3.15->langchain-experimental) (2.23.4)\n",
      "Requirement already satisfied: python-dotenv>=0.21.0 in /opt/conda/lib/python3.10/site-packages (from pydantic-settings<3.0.0,>=2.4.0->langchain-community<0.4.0,>=0.3.0->langchain-experimental) (1.0.1)\n",
      "Requirement already satisfied: charset-normalizer<4,>=2 in /opt/conda/lib/python3.10/site-packages (from requests<3,>=2->langchain-community<0.4.0,>=0.3.0->langchain-experimental) (3.3.2)\n",
      "Requirement already satisfied: idna<4,>=2.5 in /opt/conda/lib/python3.10/site-packages (from requests<3,>=2->langchain-community<0.4.0,>=0.3.0->langchain-experimental) (3.10)\n",
      "Requirement already satisfied: urllib3<3,>=1.21.1 in /opt/conda/lib/python3.10/site-packages (from requests<3,>=2->langchain-community<0.4.0,>=0.3.0->langchain-experimental) (1.26.20)\n",
      "Requirement already satisfied: certifi>=2017.4.17 in /opt/conda/lib/python3.10/site-packages (from requests<3,>=2->langchain-community<0.4.0,>=0.3.0->langchain-experimental) (2024.8.30)\n",
      "Requirement already satisfied: greenlet!=0.4.17 in /opt/conda/lib/python3.10/site-packages (from SQLAlchemy<2.0.36,>=1.4->langchain-community<0.4.0,>=0.3.0->langchain-experimental) (3.1.1)\n",
      "Requirement already satisfied: anyio in /opt/conda/lib/python3.10/site-packages (from httpx<1,>=0.23.0->langsmith<0.2.0,>=0.1.125->langchain-community<0.4.0,>=0.3.0->langchain-experimental) (3.7.1)\n",
      "Requirement already satisfied: httpcore==1.* in /opt/conda/lib/python3.10/site-packages (from httpx<1,>=0.23.0->langsmith<0.2.0,>=0.1.125->langchain-community<0.4.0,>=0.3.0->langchain-experimental) (1.0.6)\n",
      "Requirement already satisfied: sniffio in /opt/conda/lib/python3.10/site-packages (from httpx<1,>=0.23.0->langsmith<0.2.0,>=0.1.125->langchain-community<0.4.0,>=0.3.0->langchain-experimental) (1.3.1)\n",
      "Requirement already satisfied: h11<0.15,>=0.13 in /opt/conda/lib/python3.10/site-packages (from httpcore==1.*->httpx<1,>=0.23.0->langsmith<0.2.0,>=0.1.125->langchain-community<0.4.0,>=0.3.0->langchain-experimental) (0.14.0)\n",
      "Requirement already satisfied: mypy-extensions>=0.3.0 in /opt/conda/lib/python3.10/site-packages (from typing-inspect<1,>=0.4.0->dataclasses-json<0.7,>=0.5.7->langchain-community<0.4.0,>=0.3.0->langchain-experimental) (1.0.0)\n",
      "Requirement already satisfied: propcache>=0.2.0 in /opt/conda/lib/python3.10/site-packages (from yarl<2.0,>=1.12.0->aiohttp<4.0.0,>=3.8.3->langchain-community<0.4.0,>=0.3.0->langchain-experimental) (0.2.0)\n",
      "Requirement already satisfied: exceptiongroup in /opt/conda/lib/python3.10/site-packages (from anyio->httpx<1,>=0.23.0->langsmith<0.2.0,>=0.1.125->langchain-community<0.4.0,>=0.3.0->langchain-experimental) (1.2.2)\n",
      "^C\n",
      "Traceback (most recent call last):\n",
      "  File \"/opt/conda/bin/pip\", line 6, in <module>\n",
      "    from pip._internal.cli.main import main\n",
      "  File \"/opt/conda/lib/python3.10/site-packages/pip/_internal/cli/main.py\", line 11, in <module>\n",
      "    from pip._internal.cli.autocompletion import autocomplete\n",
      "  File \"/opt/conda/lib/python3.10/site-packages/pip/_internal/cli/autocompletion.py\", line 10, in <module>\n",
      "    from pip._internal.cli.main_parser import create_main_parser\n",
      "  File \"/opt/conda/lib/python3.10/site-packages/pip/_internal/cli/main_parser.py\", line 9, in <module>\n",
      "    from pip._internal.build_env import get_runnable_pip\n",
      "  File \"/opt/conda/lib/python3.10/site-packages/pip/_internal/build_env.py\", line 18, in <module>\n",
      "    from pip._internal.cli.spinners import open_spinner\n",
      "  File \"/opt/conda/lib/python3.10/site-packages/pip/_internal/cli/spinners.py\", line 9, in <module>\n",
      "    from pip._internal.utils.logging import get_indentation\n",
      "  File \"/opt/conda/lib/python3.10/site-packages/pip/_internal/utils/logging.py\", line 8, in <module>\n",
      "    from dataclasses import dataclass\n",
      "KeyboardInterrupt\n",
      "^C\n",
      "Traceback (most recent call last):\n",
      "  File \"/opt/conda/bin/pip\", line 6, in <module>\n",
      "    from pip._internal.cli.main import main\n",
      "  File \"/opt/conda/lib/python3.10/site-packages/pip/_internal/cli/main.py\", line 11, in <module>\n",
      "    from pip._internal.cli.autocompletion import autocomplete\n",
      "  File \"/opt/conda/lib/python3.10/site-packages/pip/_internal/cli/autocompletion.py\", line 10, in <module>\n",
      "    from pip._internal.cli.main_parser import create_main_parser\n",
      "  File \"/opt/conda/lib/python3.10/site-packages/pip/_internal/cli/main_parser.py\", line 9, in <module>\n",
      "    from pip._internal.build_env import get_runnable_pip\n",
      "  File \"/opt/conda/lib/python3.10/site-packages/pip/_internal/build_env.py\", line 18, in <module>\n",
      "    from pip._internal.cli.spinners import open_spinner\n",
      "  File \"/opt/conda/lib/python3.10/site-packages/pip/_internal/cli/spinners.py\", line 9, in <module>\n",
      "    from pip._internal.utils.logging import get_indentation\n",
      "  File \"/opt/conda/lib/python3.10/site-packages/pip/_internal/utils/logging.py\", line 13, in <module>\n",
      "    from pip._vendor.rich.console import (\n",
      "  File \"/opt/conda/lib/python3.10/site-packages/pip/_vendor/rich/console.py\", line 60, in <module>\n",
      "    from .pretty import Pretty, is_expandable\n",
      "  File \"/opt/conda/lib/python3.10/site-packages/pip/_vendor/rich/pretty.py\", line 31, in <module>\n",
      "    import attr as _attr_module\n",
      "  File \"/opt/conda/lib/python3.10/site-packages/attr/__init__.py\", line 10, in <module>\n",
      "    from . import converters, exceptions, filters, setters, validators\n",
      "  File \"/opt/conda/lib/python3.10/site-packages/attr/converters.py\", line 11, in <module>\n",
      "    from ._make import NOTHING, Factory, pipe\n",
      "  File \"/opt/conda/lib/python3.10/site-packages/attr/_make.py\", line 60, in <module>\n",
      "    class _Nothing(enum.Enum):\n",
      "  File \"/opt/conda/lib/python3.10/site-packages/attr/_make.py\", line 73, in _Nothing\n",
      "    def __repr__(self):\n",
      "  File \"/opt/conda/lib/python3.10/enum.py\", line 98, in __setitem__\n",
      "    if _is_private(self._cls_name, key):\n",
      "  File \"/opt/conda/lib/python3.10/enum.py\", line 47, in _is_private\n",
      "    pat_len = len(pattern)\n",
      "KeyboardInterrupt\n"
     ]
    }
   ],
   "source": [
    "#!pip install --upgrade google-cloud-aiplatform\n",
    "!pip install vertexai\n",
    "!pip install langchain-google-genai\n",
    "!pip install langchain\n",
    "!pip install langchain-experimental\n",
    "!pip install --no-deps langchain-google-vertexai \n",
    "!pip install panel"
   ]
  },
  {
   "cell_type": "code",
   "execution_count": 18,
   "id": "7b903452-9d1b-45a3-bb67-7ad076fce751",
   "metadata": {
    "collapsed": true,
    "jupyter": {
     "outputs_hidden": true
    },
    "tags": []
   },
   "outputs": [
    {
     "name": "stdout",
     "output_type": "stream",
     "text": [
      "Requirement already satisfied: panel in /opt/conda/lib/python3.10/site-packages (1.5.3)\n",
      "Requirement already satisfied: bleach in /opt/conda/lib/python3.10/site-packages (from panel) (6.1.0)\n",
      "Collecting bokeh<3.7.0,>=3.5.0 (from panel)\n",
      "  Using cached bokeh-3.6.0-py3-none-any.whl.metadata (12 kB)\n",
      "Requirement already satisfied: linkify-it-py in /opt/conda/lib/python3.10/site-packages (from panel) (2.0.3)\n",
      "Requirement already satisfied: markdown in /home/jupyter/.local/lib/python3.10/site-packages (from panel) (3.5.2)\n",
      "Requirement already satisfied: markdown-it-py in /opt/conda/lib/python3.10/site-packages (from panel) (3.0.0)\n",
      "Requirement already satisfied: mdit-py-plugins in /opt/conda/lib/python3.10/site-packages (from panel) (0.4.2)\n",
      "Requirement already satisfied: packaging in /opt/conda/lib/python3.10/site-packages (from panel) (24.1)\n",
      "Requirement already satisfied: pandas>=1.2 in /home/jupyter/.local/lib/python3.10/site-packages (from panel) (2.1.4)\n",
      "Requirement already satisfied: param<3.0,>=2.1.0 in /opt/conda/lib/python3.10/site-packages (from panel) (2.1.1)\n",
      "Requirement already satisfied: pyviz-comms>=2.0.0 in /opt/conda/lib/python3.10/site-packages (from panel) (3.0.3)\n",
      "Requirement already satisfied: requests in /opt/conda/lib/python3.10/site-packages (from panel) (2.32.3)\n",
      "Requirement already satisfied: tqdm in /opt/conda/lib/python3.10/site-packages (from panel) (4.66.5)\n",
      "Requirement already satisfied: typing-extensions in /opt/conda/lib/python3.10/site-packages (from panel) (4.12.2)\n",
      "Requirement already satisfied: Jinja2>=2.9 in /opt/conda/lib/python3.10/site-packages (from bokeh<3.7.0,>=3.5.0->panel) (3.1.4)\n",
      "Requirement already satisfied: contourpy>=1.2 in /opt/conda/lib/python3.10/site-packages (from bokeh<3.7.0,>=3.5.0->panel) (1.3.0)\n",
      "Requirement already satisfied: numpy>=1.16 in /home/jupyter/.local/lib/python3.10/site-packages (from bokeh<3.7.0,>=3.5.0->panel) (1.24.3)\n",
      "Requirement already satisfied: pillow>=7.1.0 in /opt/conda/lib/python3.10/site-packages (from bokeh<3.7.0,>=3.5.0->panel) (10.4.0)\n",
      "Requirement already satisfied: PyYAML>=3.10 in /opt/conda/lib/python3.10/site-packages (from bokeh<3.7.0,>=3.5.0->panel) (6.0.2)\n",
      "Requirement already satisfied: tornado>=6.2 in /opt/conda/lib/python3.10/site-packages (from bokeh<3.7.0,>=3.5.0->panel) (6.4.1)\n",
      "Requirement already satisfied: xyzservices>=2021.09.1 in /opt/conda/lib/python3.10/site-packages (from bokeh<3.7.0,>=3.5.0->panel) (2024.9.0)\n",
      "Requirement already satisfied: python-dateutil>=2.8.2 in /opt/conda/lib/python3.10/site-packages (from pandas>=1.2->panel) (2.9.0.post0)\n",
      "Requirement already satisfied: pytz>=2020.1 in /opt/conda/lib/python3.10/site-packages (from pandas>=1.2->panel) (2024.2)\n",
      "Requirement already satisfied: tzdata>=2022.1 in /opt/conda/lib/python3.10/site-packages (from pandas>=1.2->panel) (2024.2)\n",
      "Requirement already satisfied: six>=1.9.0 in /opt/conda/lib/python3.10/site-packages (from bleach->panel) (1.16.0)\n",
      "Requirement already satisfied: webencodings in /opt/conda/lib/python3.10/site-packages (from bleach->panel) (0.5.1)\n",
      "Requirement already satisfied: uc-micro-py in /opt/conda/lib/python3.10/site-packages (from linkify-it-py->panel) (1.0.3)\n",
      "Requirement already satisfied: mdurl~=0.1 in /opt/conda/lib/python3.10/site-packages (from markdown-it-py->panel) (0.1.2)\n",
      "Requirement already satisfied: charset-normalizer<4,>=2 in /opt/conda/lib/python3.10/site-packages (from requests->panel) (3.3.2)\n",
      "Requirement already satisfied: idna<4,>=2.5 in /opt/conda/lib/python3.10/site-packages (from requests->panel) (3.10)\n",
      "Requirement already satisfied: urllib3<3,>=1.21.1 in /opt/conda/lib/python3.10/site-packages (from requests->panel) (1.26.20)\n",
      "Requirement already satisfied: certifi>=2017.4.17 in /opt/conda/lib/python3.10/site-packages (from requests->panel) (2024.8.30)\n",
      "Requirement already satisfied: MarkupSafe>=2.0 in /opt/conda/lib/python3.10/site-packages (from Jinja2>=2.9->bokeh<3.7.0,>=3.5.0->panel) (3.0.1)\n",
      "Using cached bokeh-3.6.0-py3-none-any.whl (6.9 MB)\n",
      "Installing collected packages: bokeh\n",
      "Successfully installed bokeh-3.6.0\n"
     ]
    }
   ],
   "source": [
    "!pip install panel"
   ]
  },
  {
   "cell_type": "code",
   "execution_count": 2,
   "id": "b778c2ed-1dac-410e-b845-3534f52e7b6f",
   "metadata": {
    "tags": []
   },
   "outputs": [
    {
     "name": "stdout",
     "output_type": "stream",
     "text": [
      "pip 24.2 from /opt/conda/lib/python3.10/site-packages/pip (python 3.10)\n"
     ]
    }
   ],
   "source": [
    "!pip --version"
   ]
  },
  {
   "cell_type": "markdown",
   "id": "01a9d81f-d79a-4bb1-bf65-f7f51245daa6",
   "metadata": {},
   "source": [
    "Initialize variables"
   ]
  },
  {
   "cell_type": "code",
   "execution_count": 7,
   "id": "b4fd443a-f7fd-432d-a909-10e3513bcd5e",
   "metadata": {
    "tags": []
   },
   "outputs": [],
   "source": [
    "PROJECT = 'felipe-sandbox-354619' # replace with project ID\n",
    "BUCKET = PROJECT + \"-bucket\" \n",
    "CSV_FILE = \"files/customer-comments.csv\""
   ]
  },
  {
   "cell_type": "markdown",
   "id": "19ce2df3-64a3-4f57-a9fb-1c8a1dfcc83b",
   "metadata": {
    "tags": []
   },
   "source": [
    "Colab setup if needed"
   ]
  },
  {
   "cell_type": "code",
   "execution_count": 8,
   "id": "2af014e5-b39e-4a93-9e0a-628717e83c45",
   "metadata": {
    "tags": []
   },
   "outputs": [
    {
     "name": "stdout",
     "output_type": "stream",
     "text": [
      "Not a Colab Environment\n"
     ]
    }
   ],
   "source": [
    "try:\n",
    "    from google.colab import auth\n",
    "    auth.authenticate_user()\n",
    "    !gcloud config set project {PROJECT}\n",
    "    print('Colab authorized to GCP')\n",
    "except Exception:\n",
    "    print('Not a Colab Environment')\n",
    "    pass"
   ]
  },
  {
   "cell_type": "markdown",
   "id": "3EZsamn67y6J",
   "metadata": {
    "id": "3EZsamn67y6J"
   },
   "source": [
    "## Langchain Setup"
   ]
  },
  {
   "cell_type": "markdown",
   "id": "aZAoXfB8z4uIoOWQgYDPEvj5",
   "metadata": {
    "id": "aZAoXfB8z4uIoOWQgYDPEvj5",
    "tags": []
   },
   "source": [
    "### Tools"
   ]
  },
  {
   "cell_type": "code",
   "execution_count": 54,
   "id": "2dFDFBiEF-cX",
   "metadata": {
    "executionInfo": {
     "elapsed": 304,
     "status": "ok",
     "timestamp": 1730321794859,
     "user": {
      "displayName": "",
      "userId": ""
     },
     "user_tz": 240
    },
    "id": "2dFDFBiEF-cX",
    "tags": []
   },
   "outputs": [],
   "source": [
    "import pandas as pd\n",
    "import json\n",
    "from langchain.agents import Tool\n",
    "from langchain.tools import tool\n",
    "from io import StringIO\n",
    "from pydantic import BaseModel, Field\n",
    "\n",
    "\n",
    "@tool(\"pandas_calculator\", return_direct=False)\n",
    "def pandas_calculator(dictionary:str):\n",
    "    \"\"\"\n",
    "    Evaluates an expression on a Pandas DataFrame and returns the result.\n",
    "    Inputs include an expression expr and a file path csv_file_path\n",
    "    Inputs should be in format {\\\"expr\\\": str, \\\"csv_file_path\\\": str}\n",
    "    \"\"\"\n",
    "    dictionary = json.loads(dictionary)\n",
    "    csv_file_path = dictionary[\"csv_file_path\"]\n",
    "    expr = dictionary[\"expr\"]\n",
    "    \n",
    "    try:\n",
    "        df = pd.read_csv(csv_file_path)\n",
    "        print(df)\n",
    "        # evaluate expr on the pandas dataframe\n",
    "        result = eval(expr)\n",
    "        # return the result\n",
    "        return str(result)\n",
    "    except Exception as e:\n",
    "        return f\"Error: Could not load data or evaluate expression. {e}\""
   ]
  },
  {
   "cell_type": "code",
   "execution_count": 55,
   "id": "db6506fb-b152-456d-b4d9-724e9b42164f",
   "metadata": {
    "tags": []
   },
   "outputs": [
    {
     "name": "stdout",
     "output_type": "stream",
     "text": [
      "{\"csv_input_file\":\"files/customer-comments.csv\"}\n",
      "{\"csv_input_file\":\"files/customer-comments.csv\"}\n"
     ]
    },
    {
     "name": "stderr",
     "output_type": "stream",
     "text": [
      "/var/tmp/ipykernel_4240/992228356.py:26: LangChainDeprecationWarning: The method `BaseTool.__call__` was deprecated in langchain-core 0.1.47 and will be removed in 1.0. Use :meth:`~invoke` instead.\n",
      "  csv_summary_statistics(test_path)\n"
     ]
    },
    {
     "data": {
      "text/plain": [
       "\"sample data: \\n   index                                       comment country\\n0      1                  The product arrived damaged.      US\\n1      2              I'm very happy with the service!  Mexico\\n2      3             I have a question about my order.  Canada\\n3      4                        The delivery was late.      US\\n4      5  The customer support agent was very helpful.  Canada\\n\\n\""
      ]
     },
     "execution_count": 55,
     "metadata": {},
     "output_type": "execute_result"
    }
   ],
   "source": [
    "@tool(\"csv_summary_statistics\", return_direct=False)\n",
    "def csv_summary_statistics(dictionary:str):\n",
    "    \"\"\"\n",
    "    Gets summary statistics on the csv to understand the data\n",
    "    Before running pandas calculator please run the statistics first\n",
    "    Inputs should be in format {\\\"csv_input_file\\\": str}\n",
    "    \"\"\"\n",
    "    \n",
    "    print(dictionary)\n",
    "    dictionary = json.loads(dictionary)\n",
    "    input_path = dictionary[\"csv_input_file\"]\n",
    "    \n",
    "    try:\n",
    "        df = pd.read_csv(input_path)\n",
    "        # evaluate expr on the pandas dataframe\n",
    "        result = \"sample data: \\n\" + df.head().to_string() + \"\\n\\n\"\n",
    "        #result += \"information on the data: \" + df.info().to_string()\n",
    "        #print(df.info())\n",
    "        # return the result\n",
    "        return str(result)\n",
    "    except Exception as e:\n",
    "        return f\"Error: Could not load data or evaluate expression. {e}\"\n",
    "    \n",
    "test_path = \"{\\\"csv_input_file\\\":\\\"\" + CSV_FILE + \"\\\"}\"\n",
    "print(test_path)\n",
    "csv_summary_statistics(test_path)"
   ]
  },
  {
   "cell_type": "code",
   "execution_count": 56,
   "id": "n7YCgEQM74Ac",
   "metadata": {
    "colab": {
     "base_uri": "https://localhost:8080/"
    },
    "executionInfo": {
     "elapsed": 348,
     "status": "ok",
     "timestamp": 1730321798695,
     "user": {
      "displayName": "",
      "userId": ""
     },
     "user_tz": 240
    },
    "id": "n7YCgEQM74Ac",
    "outputId": "8a20b6d9-d9ab-4c39-edf1-69c024e49963",
    "tags": []
   },
   "outputs": [
    {
     "name": "stderr",
     "output_type": "stream",
     "text": [
      "/opt/conda/lib/python3.10/site-packages/langsmith/client.py:234: LangSmithMissingAPIKeyWarning: API key must be provided when using hosted LangSmith API\n",
      "  warnings.warn(\n"
     ]
    }
   ],
   "source": [
    "from langchain import hub\n",
    "from langchain.agents import AgentExecutor, create_react_agent\n",
    "from langchain_google_vertexai import ChatVertexAI\n",
    "from langchain.memory import ConversationBufferWindowMemory\n",
    "\n",
    "\n",
    "llm = ChatVertexAI(model=\"gemini-1.5-pro-002\")\n",
    "prompt = hub.pull(\"hwchase17/react-chat\")\n",
    "chat_history = ConversationBufferWindowMemory(k=10)\n",
    "\n",
    "agent = create_react_agent(llm, [pandas_calculator,csv_summary_statistics], prompt)\n",
    "\n",
    "agent_executor = AgentExecutor(agent=agent,\n",
    "                               tools=[pandas_calculator,csv_summary_statistics],\n",
    "                               verbose=True, handle_parsing_errors=True,\n",
    "                               max_iterations=5)\n",
    "\n",
    "def append_chat_history(input, response):\n",
    "    chat_history.save_context({\"input\": input}, {\"output\": response})\n",
    "\n",
    "def invoke(input):\n",
    "    if (input):\n",
    "        print(\"input: \" + str(input))\n",
    "        msg = {\n",
    "            \"input\": input,\n",
    "            \"chat_history\": chat_history.load_memory_variables({}),\n",
    "        }\n",
    "        print(f\"Input: {msg}\")\n",
    "\n",
    "        response = agent_executor.invoke(msg)\n",
    "        print(f\"Response: {response}\")\n",
    "\n",
    "        append_chat_history(response[\"input\"], response[\"output\"])\n",
    "        print(f\"History: {chat_history.load_memory_variables({})}\")\n",
    "\n",
    "        return response[\"output\"]\n",
    "    else:\n",
    "        return \"\""
   ]
  },
  {
   "cell_type": "code",
   "execution_count": 57,
   "id": "ghjHsiHpETAd",
   "metadata": {
    "colab": {
     "base_uri": "https://localhost:8080/"
    },
    "executionInfo": {
     "elapsed": 3086,
     "status": "ok",
     "timestamp": 1730321804540,
     "user": {
      "displayName": "",
      "userId": ""
     },
     "user_tz": 240
    },
    "id": "ghjHsiHpETAd",
    "outputId": "0b4e09b8-89e7-4871-f3c9-f6b9741ed37a",
    "tags": []
   },
   "outputs": [
    {
     "name": "stdout",
     "output_type": "stream",
     "text": [
      "input: Hi\n",
      "Input: {'input': 'Hi', 'chat_history': {'history': ''}}\n",
      "\n",
      "\n",
      "\u001b[1m> Entering new AgentExecutor chain...\u001b[0m\n",
      "\u001b[32;1m\u001b[1;3mThought: Do I need to use a tool? No\n",
      "Final Answer: Hi there! How can I help you today?\n",
      "! How can I help you today?\n",
      "\u001b[0m\n",
      "\n",
      "\u001b[1m> Finished chain.\u001b[0m\n",
      "Response: {'input': 'Hi', 'chat_history': {'history': ''}, 'output': 'Hi there! How can I help you today?\\n! How can I help you today?'}\n",
      "History: {'history': 'Human: Hi\\nAI: Hi there! How can I help you today?\\n! How can I help you today?'}\n",
      "input: files/customer-comments.csv\n",
      "\n",
      " how many rows are in this file?\n",
      "Input: {'input': 'files/customer-comments.csv\\n\\n how many rows are in this file?', 'chat_history': {'history': 'Human: Hi\\nAI: Hi there! How can I help you today?\\n! How can I help you today?'}}\n",
      "\n",
      "\n",
      "\u001b[1m> Entering new AgentExecutor chain...\u001b[0m\n",
      "\u001b[32;1m\u001b[1;3mThought: Do I need to use a tool? Yes\n",
      "Action: csv_summary_statistics\n",
      "Action Input: {\"csv_input_file\": \"files/customer-comments.csv\"}\u001b[0m{\"csv_input_file\": \"files/customer-comments.csv\"}\n",
      "\u001b[33;1m\u001b[1;3msample data: \n",
      "   index                                       comment country\n",
      "0      1                  The product arrived damaged.      US\n",
      "1      2              I'm very happy with the service!  Mexico\n",
      "2      3             I have a question about my order.  Canada\n",
      "3      4                        The delivery was late.      US\n",
      "4      5  The customer support agent was very helpful.  Canada\n",
      "\n",
      "\u001b[0m\u001b[32;1m\u001b[1;3mDo I need to use a tool? Yes\n",
      "Action: pandas_calculator\n",
      "Action Input: {\"expr\": \"len(df)\", \"csv_file_path\": \"files/customer-comments.csv\"}\u001b[0m    index                                       comment country\n",
      "0       1                  The product arrived damaged.      US\n",
      "1       2              I'm very happy with the service!  Mexico\n",
      "2       3             I have a question about my order.  Canada\n",
      "3       4                        The delivery was late.      US\n",
      "4       5  The customer support agent was very helpful.  Canada\n",
      "..    ...                                           ...     ...\n",
      "95     96   I'm not satisfied with the product quality.      US\n",
      "96     97                     I need to return an item.  Canada\n",
      "97     98                   The website is easy to use.  Mexico\n",
      "98     99     I couldn't find the information I needed.      US\n",
      "99    100                        The price is too high.      US\n",
      "\n",
      "[100 rows x 3 columns]\n",
      "\u001b[36;1m\u001b[1;3m100\u001b[0m\u001b[32;1m\u001b[1;3mDo I need to use a tool? No\n",
      "Final Answer: There are 100 rows in the file.\n",
      "00 rows in the file.\n",
      "\u001b[0m\n",
      "\n",
      "\u001b[1m> Finished chain.\u001b[0m\n",
      "Response: {'input': 'files/customer-comments.csv\\n\\n how many rows are in this file?', 'chat_history': {'history': 'Human: Hi\\nAI: Hi there! How can I help you today?\\n! How can I help you today?'}, 'output': 'There are 100 rows in the file.\\n00 rows in the file.'}\n",
      "History: {'history': 'Human: Hi\\nAI: Hi there! How can I help you today?\\n! How can I help you today?\\nHuman: files/customer-comments.csv\\n\\n how many rows are in this file?\\nAI: There are 100 rows in the file.\\n00 rows in the file.'}\n"
     ]
    },
    {
     "data": {
      "text/plain": [
       "'There are 100 rows in the file.\\n00 rows in the file.'"
      ]
     },
     "execution_count": 57,
     "metadata": {},
     "output_type": "execute_result"
    }
   ],
   "source": [
    "invoke(\"Hi\")\n",
    "invoke(CSV_FILE + \"\\n\\n how many rows are in this file?\")"
   ]
  },
  {
   "cell_type": "code",
   "execution_count": 9,
   "id": "eVrNIXm9MHtm",
   "metadata": {
    "colab": {
     "base_uri": "https://localhost:8080/"
    },
    "collapsed": true,
    "executionInfo": {
     "elapsed": 3492,
     "status": "ok",
     "timestamp": 1730321808028,
     "user": {
      "displayName": "",
      "userId": ""
     },
     "user_tz": 240
    },
    "id": "eVrNIXm9MHtm",
    "jupyter": {
     "outputs_hidden": true
    },
    "outputId": "caf99249-d308-4d8c-81fd-cba6a9fb7348",
    "tags": []
   },
   "outputs": [
    {
     "name": "stdout",
     "output_type": "stream",
     "text": [
      "Input: {'input': 'can you count how many rows are from the US?', 'chat_history': {'history': 'Human: Hi\\nAI: Hello! How can I help you today?\\n How can I help you today?\\nHuman: files/customer-comments.csv\\n\\n how many rows are in this file?\\nAI: There are 100 rows in the file.\\n00 rows in the file.'}}\n",
      "\n",
      "\n",
      "\u001b[1m> Entering new AgentExecutor chain...\u001b[0m\n",
      "\u001b[32;1m\u001b[1;3mThought: Do I need to use a tool? Yes\n",
      "Action: csv_summary_statistics\n",
      "Action Input: {\"csv_input_file\": \"files/customer-comments.csv\"}\u001b[0m{\"csv_input_file\": \"files/customer-comments.csv\"}\n",
      "\u001b[33;1m\u001b[1;3msample data: \n",
      "   index                                       comment country\n",
      "0      1                  The product arrived damaged.      US\n",
      "1      2              I'm very happy with the service!  Mexico\n",
      "2      3             I have a question about my order.  Canada\n",
      "3      4                        The delivery was late.      US\n",
      "4      5  The customer support agent was very helpful.  Canada\n",
      "\n",
      "\u001b[0m\u001b[32;1m\u001b[1;3mDo I need to use a tool? Yes\n",
      "Action: pandas_calculator\n",
      "Action Input: {\"expr\": \"df[df['country'] == 'US'].shape[0]\", \"csv_file_path\": \"files/customer-comments.csv\"}\u001b[0m    index                                       comment country\n",
      "0       1                  The product arrived damaged.      US\n",
      "1       2              I'm very happy with the service!  Mexico\n",
      "2       3             I have a question about my order.  Canada\n",
      "3       4                        The delivery was late.      US\n",
      "4       5  The customer support agent was very helpful.  Canada\n",
      "..    ...                                           ...     ...\n",
      "95     96   I'm not satisfied with the product quality.      US\n",
      "96     97                     I need to return an item.  Canada\n",
      "97     98                   The website is easy to use.  Mexico\n",
      "98     99     I couldn't find the information I needed.      US\n",
      "99    100                        The price is too high.      US\n",
      "\n",
      "[100 rows x 3 columns]\n",
      "\u001b[36;1m\u001b[1;3m42\u001b[0m\u001b[32;1m\u001b[1;3mDo I need to use a tool? No\n",
      "Final Answer: There are 42 rows from the US.\n",
      "2 rows from the US.\n",
      "\u001b[0m\n",
      "\n",
      "\u001b[1m> Finished chain.\u001b[0m\n",
      "Response: {'input': 'can you count how many rows are from the US?', 'chat_history': {'history': 'Human: Hi\\nAI: Hello! How can I help you today?\\n How can I help you today?\\nHuman: files/customer-comments.csv\\n\\n how many rows are in this file?\\nAI: There are 100 rows in the file.\\n00 rows in the file.'}, 'output': 'There are 42 rows from the US.\\n2 rows from the US.'}\n",
      "History: {'history': 'Human: Hi\\nAI: Hello! How can I help you today?\\n How can I help you today?\\nHuman: files/customer-comments.csv\\n\\n how many rows are in this file?\\nAI: There are 100 rows in the file.\\n00 rows in the file.\\nHuman: can you count how many rows are from the US?\\nAI: There are 42 rows from the US.\\n2 rows from the US.'}\n"
     ]
    }
   ],
   "source": [
    "invoke(\"can you count how many rows are from the US?\")"
   ]
  },
  {
   "cell_type": "code",
   "execution_count": 10,
   "id": "-VK9OdHeM4e8",
   "metadata": {
    "colab": {
     "base_uri": "https://localhost:8080/"
    },
    "collapsed": true,
    "executionInfo": {
     "elapsed": 3662,
     "status": "ok",
     "timestamp": 1730321837264,
     "user": {
      "displayName": "",
      "userId": ""
     },
     "user_tz": 240
    },
    "id": "-VK9OdHeM4e8",
    "jupyter": {
     "outputs_hidden": true
    },
    "outputId": "707a5b02-6233-4c4c-c4e0-ed0654b6e115",
    "tags": []
   },
   "outputs": [
    {
     "name": "stdout",
     "output_type": "stream",
     "text": [
      "Input: {'input': 'how many rows include the word product?', 'chat_history': {'history': 'Human: Hi\\nAI: Hello! How can I help you today?\\n How can I help you today?\\nHuman: files/customer-comments.csv\\n\\n how many rows are in this file?\\nAI: There are 100 rows in the file.\\n00 rows in the file.\\nHuman: can you count how many rows are from the US?\\nAI: There are 42 rows from the US.\\n2 rows from the US.'}}\n",
      "\n",
      "\n",
      "\u001b[1m> Entering new AgentExecutor chain...\u001b[0m\n",
      "\u001b[32;1m\u001b[1;3mThought: Do I need to use a tool? Yes\n",
      "Action: pandas_calculator\n",
      "Action Input: {\"expr\": \"df['comment'].str.contains('product').sum()\", \"csv_file_path\": \"files/customer-comments.csv\"}\u001b[0m    index                                       comment country\n",
      "0       1                  The product arrived damaged.      US\n",
      "1       2              I'm very happy with the service!  Mexico\n",
      "2       3             I have a question about my order.  Canada\n",
      "3       4                        The delivery was late.      US\n",
      "4       5  The customer support agent was very helpful.  Canada\n",
      "..    ...                                           ...     ...\n",
      "95     96   I'm not satisfied with the product quality.      US\n",
      "96     97                     I need to return an item.  Canada\n",
      "97     98                   The website is easy to use.  Mexico\n",
      "98     99     I couldn't find the information I needed.      US\n",
      "99    100                        The price is too high.      US\n",
      "\n",
      "[100 rows x 3 columns]\n",
      "\u001b[36;1m\u001b[1;3m26\u001b[0m\u001b[32;1m\u001b[1;3mDo I need to use a tool? No\n",
      "Final Answer: There are 26 rows that include the word \"product\".\n",
      "6 rows that include the word \"product\".\n",
      "\u001b[0m\n",
      "\n",
      "\u001b[1m> Finished chain.\u001b[0m\n",
      "Response: {'input': 'how many rows include the word product?', 'chat_history': {'history': 'Human: Hi\\nAI: Hello! How can I help you today?\\n How can I help you today?\\nHuman: files/customer-comments.csv\\n\\n how many rows are in this file?\\nAI: There are 100 rows in the file.\\n00 rows in the file.\\nHuman: can you count how many rows are from the US?\\nAI: There are 42 rows from the US.\\n2 rows from the US.'}, 'output': 'There are 26 rows that include the word \"product\".\\n6 rows that include the word \"product\".'}\n",
      "History: {'history': 'Human: Hi\\nAI: Hello! How can I help you today?\\n How can I help you today?\\nHuman: files/customer-comments.csv\\n\\n how many rows are in this file?\\nAI: There are 100 rows in the file.\\n00 rows in the file.\\nHuman: can you count how many rows are from the US?\\nAI: There are 42 rows from the US.\\n2 rows from the US.\\nHuman: how many rows include the word product?\\nAI: There are 26 rows that include the word \"product\".\\n6 rows that include the word \"product\".'}\n"
     ]
    }
   ],
   "source": [
    "invoke(\"how many rows include the word product?\")"
   ]
  },
  {
   "cell_type": "code",
   "execution_count": 11,
   "id": "8Yv3T5r8N9uR",
   "metadata": {
    "colab": {
     "base_uri": "https://localhost:8080/"
    },
    "collapsed": true,
    "executionInfo": {
     "elapsed": 5007,
     "status": "ok",
     "timestamp": 1730321954768,
     "user": {
      "displayName": "",
      "userId": ""
     },
     "user_tz": 240
    },
    "id": "8Yv3T5r8N9uR",
    "jupyter": {
     "outputs_hidden": true
    },
    "outputId": "5ad0ebd7-a8e4-44f8-af12-c03a76e825a2",
    "tags": []
   },
   "outputs": [
    {
     "name": "stdout",
     "output_type": "stream",
     "text": [
      "Input: {'input': 'how many rows are positive and how many are negative sentiment?', 'chat_history': {'history': 'Human: Hi\\nAI: Hello! How can I help you today?\\n How can I help you today?\\nHuman: files/customer-comments.csv\\n\\n how many rows are in this file?\\nAI: There are 100 rows in the file.\\n00 rows in the file.\\nHuman: can you count how many rows are from the US?\\nAI: There are 42 rows from the US.\\n2 rows from the US.\\nHuman: how many rows include the word product?\\nAI: There are 26 rows that include the word \"product\".\\n6 rows that include the word \"product\".'}}\n",
      "\n",
      "\n",
      "\u001b[1m> Entering new AgentExecutor chain...\u001b[0m\n",
      "\u001b[32;1m\u001b[1;3mThought: Do I need to use a tool? Yes\n",
      "Action: csv_summary_statistics\n",
      "Action Input: {\"csv_input_file\": \"files/customer-comments.csv\"}\u001b[0m{\"csv_input_file\": \"files/customer-comments.csv\"}\n",
      "\u001b[33;1m\u001b[1;3msample data: \n",
      "   index                                       comment country\n",
      "0      1                  The product arrived damaged.      US\n",
      "1      2              I'm very happy with the service!  Mexico\n",
      "2      3             I have a question about my order.  Canada\n",
      "3      4                        The delivery was late.      US\n",
      "4      5  The customer support agent was very helpful.  Canada\n",
      "\n",
      "\u001b[0m\u001b[32;1m\u001b[1;3mDo I need to use a tool? Yes\n",
      "Action: pandas_calculator\n",
      "Action Input: {\"expr\": \"df['comment'].str.contains('positive', case=False).sum()\", \"csv_file_path\": \"files/customer-comments.csv\"}\u001b[0m    index                                       comment country\n",
      "0       1                  The product arrived damaged.      US\n",
      "1       2              I'm very happy with the service!  Mexico\n",
      "2       3             I have a question about my order.  Canada\n",
      "3       4                        The delivery was late.      US\n",
      "4       5  The customer support agent was very helpful.  Canada\n",
      "..    ...                                           ...     ...\n",
      "95     96   I'm not satisfied with the product quality.      US\n",
      "96     97                     I need to return an item.  Canada\n",
      "97     98                   The website is easy to use.  Mexico\n",
      "98     99     I couldn't find the information I needed.      US\n",
      "99    100                        The price is too high.      US\n",
      "\n",
      "[100 rows x 3 columns]\n",
      "\u001b[36;1m\u001b[1;3m0\u001b[0m\u001b[32;1m\u001b[1;3mDo I need to use a tool? Yes\n",
      "Action: pandas_calculator\n",
      "Action Input: {\"expr\": \"df['comment'].str.contains('negative', case=False).sum()\", \"csv_file_path\": \"files/customer-comments.csv\"}\u001b[0m    index                                       comment country\n",
      "0       1                  The product arrived damaged.      US\n",
      "1       2              I'm very happy with the service!  Mexico\n",
      "2       3             I have a question about my order.  Canada\n",
      "3       4                        The delivery was late.      US\n",
      "4       5  The customer support agent was very helpful.  Canada\n",
      "..    ...                                           ...     ...\n",
      "95     96   I'm not satisfied with the product quality.      US\n",
      "96     97                     I need to return an item.  Canada\n",
      "97     98                   The website is easy to use.  Mexico\n",
      "98     99     I couldn't find the information I needed.      US\n",
      "99    100                        The price is too high.      US\n",
      "\n",
      "[100 rows x 3 columns]\n",
      "\u001b[36;1m\u001b[1;3m0\u001b[0m\u001b[32;1m\u001b[1;3mDo I need to use a tool? No\n",
      "Final Answer: There are no rows explicitly containing \"positive\" or \"negative\".  It's possible the sentiment is expressed in other ways and I would need more information or tools to assess it. Would you like me to look for other keywords that might indicate sentiment?\n",
      "\u001b[0m\n",
      "\n",
      "\u001b[1m> Finished chain.\u001b[0m\n",
      "Response: {'input': 'how many rows are positive and how many are negative sentiment?', 'chat_history': {'history': 'Human: Hi\\nAI: Hello! How can I help you today?\\n How can I help you today?\\nHuman: files/customer-comments.csv\\n\\n how many rows are in this file?\\nAI: There are 100 rows in the file.\\n00 rows in the file.\\nHuman: can you count how many rows are from the US?\\nAI: There are 42 rows from the US.\\n2 rows from the US.\\nHuman: how many rows include the word product?\\nAI: There are 26 rows that include the word \"product\".\\n6 rows that include the word \"product\".'}, 'output': 'There are no rows explicitly containing \"positive\" or \"negative\".  It\\'s possible the sentiment is expressed in other ways and I would need more information or tools to assess it. Would you like me to look for other keywords that might indicate sentiment?'}\n",
      "History: {'history': 'Human: Hi\\nAI: Hello! How can I help you today?\\n How can I help you today?\\nHuman: files/customer-comments.csv\\n\\n how many rows are in this file?\\nAI: There are 100 rows in the file.\\n00 rows in the file.\\nHuman: can you count how many rows are from the US?\\nAI: There are 42 rows from the US.\\n2 rows from the US.\\nHuman: how many rows include the word product?\\nAI: There are 26 rows that include the word \"product\".\\n6 rows that include the word \"product\".\\nHuman: how many rows are positive and how many are negative sentiment?\\nAI: There are no rows explicitly containing \"positive\" or \"negative\".  It\\'s possible the sentiment is expressed in other ways and I would need more information or tools to assess it. Would you like me to look for other keywords that might indicate sentiment?'}\n"
     ]
    }
   ],
   "source": [
    "invoke(\"how many rows are positive and how many are negative sentiment?\")"
   ]
  },
  {
   "cell_type": "markdown",
   "id": "2caf62bb-2a3a-4c30-b99e-7c7a6335053e",
   "metadata": {},
   "source": [
    "## Create UI for the Chatbot"
   ]
  },
  {
   "cell_type": "markdown",
   "id": "a93199bb-990e-41c8-b885-e2c7bdbd1c45",
   "metadata": {},
   "source": [
    "Create helper functions"
   ]
  },
  {
   "cell_type": "code",
   "execution_count": 61,
   "id": "bf280261-0913-4417-879a-0f53a2535a42",
   "metadata": {
    "tags": []
   },
   "outputs": [],
   "source": [
    "import ipywidgets as widgets\n",
    "from IPython.display import display, clear_output\n",
    "\n",
    "def get_response(contents):\n",
    "    response = \"hello\"\n",
    "    return response\n",
    "\n",
    "# Create text box for user input\n",
    "user_input = widgets.Textarea(value='',\n",
    "                              placeholder='Enter text here...',\n",
    "                              description='User:',\n",
    "                              rows=2,\n",
    "                              layout=widgets.Layout(width='auto'))\n",
    "\n",
    "# Create text area for conversation display\n",
    "conversation_history = widgets.Textarea(value='',\n",
    "                                        description='Chat:',\n",
    "                                        rows=15,\n",
    "                                        layout=widgets.Layout(width='auto'))\n",
    "\n",
    "# Create button for user to click to send their message\n",
    "send_button = widgets.Button(description='Send')\n",
    "\n",
    "def send_button_clicked(b):\n",
    "    # Append user input to conversation history\n",
    "    conversation_history.value += 'User: ' + user_input.value + '\\n'\n",
    "    response = invoke(user_input.value) \n",
    "    conversation_history.value += 'Assistant: ' + response + '\\n'\n",
    "    \n",
    "    # Clear user input box\n",
    "    user_input.value = ''\n",
    "\n",
    "send_button.on_click(send_button_clicked)\n",
    "\n"
   ]
  },
  {
   "cell_type": "code",
   "execution_count": 62,
   "id": "5e2aafe5-7b87-4bde-bf07-ebcd9158945c",
   "metadata": {
    "tags": []
   },
   "outputs": [
    {
     "data": {
      "application/vnd.jupyter.widget-view+json": {
       "model_id": "63b7331bab514fb2b2f7a38c94d8d8e2",
       "version_major": 2,
       "version_minor": 0
      },
      "text/plain": [
       "Textarea(value='', description='Chat:', layout=Layout(width='auto'), rows=15)"
      ]
     },
     "metadata": {},
     "output_type": "display_data"
    },
    {
     "data": {
      "application/vnd.jupyter.widget-view+json": {
       "model_id": "10a00c0656a34e188163e79edf500762",
       "version_major": 2,
       "version_minor": 0
      },
      "text/plain": [
       "Textarea(value='', description='User:', layout=Layout(width='auto'), placeholder='Enter text here...', rows=2)"
      ]
     },
     "metadata": {},
     "output_type": "display_data"
    },
    {
     "data": {
      "application/vnd.jupyter.widget-view+json": {
       "model_id": "07c87623766e47cda9accb72fc1cde9d",
       "version_major": 2,
       "version_minor": 0
      },
      "text/plain": [
       "Button(description='Send', style=ButtonStyle())"
      ]
     },
     "metadata": {},
     "output_type": "display_data"
    }
   ],
   "source": [
    "# Display everything\n",
    "display(conversation_history, user_input, send_button)"
   ]
  },
  {
   "cell_type": "code",
   "execution_count": null,
   "id": "7592f475-335d-4c8d-9d9a-a68e8ede86cb",
   "metadata": {},
   "outputs": [],
   "source": []
  }
 ],
 "metadata": {
  "colab": {
   "name": "csv_analyzer",
   "provenance": []
  },
  "environment": {
   "kernel": "conda-base-py",
   "name": "workbench-notebooks.m125",
   "type": "gcloud",
   "uri": "us-docker.pkg.dev/deeplearning-platform-release/gcr.io/workbench-notebooks:m125"
  },
  "kernelspec": {
   "display_name": "Python 3 (ipykernel)",
   "language": "python",
   "name": "conda-base-py"
  },
  "language_info": {
   "codemirror_mode": {
    "name": "ipython",
    "version": 3
   },
   "file_extension": ".py",
   "mimetype": "text/x-python",
   "name": "python",
   "nbconvert_exporter": "python",
   "pygments_lexer": "ipython3",
   "version": "3.10.15"
  }
 },
 "nbformat": 4,
 "nbformat_minor": 5
}
