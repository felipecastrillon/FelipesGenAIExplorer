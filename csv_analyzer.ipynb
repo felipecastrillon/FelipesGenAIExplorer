{
 "cells": [
  {
   "cell_type": "markdown",
   "id": "2mdBNzaq8XW2",
   "metadata": {
    "id": "2mdBNzaq8XW2"
   },
   "source": [
    "# CSV Analyzer\n"
   ]
  },
  {
   "cell_type": "markdown",
   "id": "4ea575b2-3a61-43ae-9454-e515d4d377cf",
   "metadata": {
    "tags": []
   },
   "source": [
    "Generative Question and Answer (QnA) analyzer of csv files. The focus is on small csv files (100s or 1000s of rows) where traditionally users are doing analysis on a spreadsheet but want a more interactive way to do their analysis. \n",
    "\n",
    "Today you can drop a csv on your LLM of choice and can get answers to some complex questions that focus on language summarization tasks like topic categorization, sentiment analysis, sampling of data. Where LLM usually fail is in doing computation of your data i.e. filtering, aggregation, counts etc. \n",
    "\n",
    "In order to overcome this drawback we are taking advantage of an agentic approach while giving it access to a pandas runner. This allows the agent the ability to run computations via pandas commands. The agent will use a reAct framework to be able to think through the problem and access the pandas dataframe only when necessary. "
   ]
  },
  {
   "cell_type": "markdown",
   "id": "gncZnt8YwkTS",
   "metadata": {
    "id": "gncZnt8YwkTS"
   },
   "source": [
    "# SetUp"
   ]
  },
  {
   "cell_type": "markdown",
   "id": "Nwtoa1WKsSlSj4VrqdEY8LId",
   "metadata": {
    "id": "Nwtoa1WKsSlSj4VrqdEY8LId",
    "tags": []
   },
   "source": [
    "Install the Langchain packages: Open a terminal window and enter the command below"
   ]
  },
  {
   "cell_type": "code",
   "execution_count": 20,
   "id": "qsskCvGUcbn34hNAWisBS4Uk",
   "metadata": {
    "colab": {
     "base_uri": "https://localhost:8080/",
     "height": 1000
    },
    "collapsed": true,
    "executionInfo": {
     "elapsed": 46113,
     "status": "ok",
     "timestamp": 1730319297839,
     "user": {
      "displayName": "",
      "userId": ""
     },
     "user_tz": 240
    },
    "id": "qsskCvGUcbn34hNAWisBS4Uk",
    "jupyter": {
     "outputs_hidden": true
    },
    "outputId": "fc4d3234-5fe5-44ea-8dba-f70683408d49",
    "tags": []
   },
   "outputs": [
    {
     "name": "stdout",
     "output_type": "stream",
     "text": [
      "Collecting vertexai\n",
      "  Downloading vertexai-1.71.0-py3-none-any.whl (7.3 kB)\n",
      "Collecting google-cloud-aiplatform[all]==1.71.0\n",
      "  Using cached google_cloud_aiplatform-1.71.0-py2.py3-none-any.whl (6.2 MB)\n",
      "\u001b[33mWARNING: google-cloud-aiplatform 1.71.0 does not provide the extra 'all'\u001b[0m\n",
      "Requirement already satisfied: proto-plus<2.0.0dev,>=1.22.3 in /opt/conda/lib/python3.10/site-packages (from google-cloud-aiplatform[all]==1.71.0->vertexai) (1.24.0)\n",
      "Requirement already satisfied: docstring-parser<1 in /opt/conda/lib/python3.10/site-packages (from google-cloud-aiplatform[all]==1.71.0->vertexai) (0.16)\n",
      "Requirement already satisfied: packaging>=14.3 in /opt/conda/lib/python3.10/site-packages (from google-cloud-aiplatform[all]==1.71.0->vertexai) (24.1)\n",
      "Requirement already satisfied: google-cloud-resource-manager<3.0.0dev,>=1.3.3 in /opt/conda/lib/python3.10/site-packages (from google-cloud-aiplatform[all]==1.71.0->vertexai) (1.12.5)\n",
      "Requirement already satisfied: protobuf!=4.21.0,!=4.21.1,!=4.21.2,!=4.21.3,!=4.21.4,!=4.21.5,<6.0.0dev,>=3.20.2 in /opt/conda/lib/python3.10/site-packages (from google-cloud-aiplatform[all]==1.71.0->vertexai) (3.20.3)\n",
      "Requirement already satisfied: google-auth<3.0.0dev,>=2.14.1 in /opt/conda/lib/python3.10/site-packages (from google-cloud-aiplatform[all]==1.71.0->vertexai) (2.32.0)\n",
      "Requirement already satisfied: google-cloud-bigquery!=3.20.0,<4.0.0dev,>=1.15.0 in /opt/conda/lib/python3.10/site-packages (from google-cloud-aiplatform[all]==1.71.0->vertexai) (3.25.0)\n",
      "Requirement already satisfied: google-api-core[grpc]!=2.0.*,!=2.1.*,!=2.2.*,!=2.3.*,!=2.4.*,!=2.5.*,!=2.6.*,!=2.7.*,<3.0.0dev,>=1.34.1 in /opt/conda/lib/python3.10/site-packages (from google-cloud-aiplatform[all]==1.71.0->vertexai) (1.34.1)\n",
      "Requirement already satisfied: pydantic<3 in /opt/conda/lib/python3.10/site-packages (from google-cloud-aiplatform[all]==1.71.0->vertexai) (2.8.2)\n",
      "Requirement already satisfied: google-cloud-storage<3.0.0dev,>=1.32.0 in /opt/conda/lib/python3.10/site-packages (from google-cloud-aiplatform[all]==1.71.0->vertexai) (2.14.0)\n",
      "Requirement already satisfied: shapely<3.0.0dev in /opt/conda/lib/python3.10/site-packages (from google-cloud-aiplatform[all]==1.71.0->vertexai) (2.0.5)\n",
      "Requirement already satisfied: requests<3.0.0dev,>=2.18.0 in /opt/conda/lib/python3.10/site-packages (from google-api-core[grpc]!=2.0.*,!=2.1.*,!=2.2.*,!=2.3.*,!=2.4.*,!=2.5.*,!=2.6.*,!=2.7.*,<3.0.0dev,>=1.34.1->google-cloud-aiplatform[all]==1.71.0->vertexai) (2.32.3)\n",
      "Requirement already satisfied: googleapis-common-protos<2.0dev,>=1.56.2 in /opt/conda/lib/python3.10/site-packages (from google-api-core[grpc]!=2.0.*,!=2.1.*,!=2.2.*,!=2.3.*,!=2.4.*,!=2.5.*,!=2.6.*,!=2.7.*,<3.0.0dev,>=1.34.1->google-cloud-aiplatform[all]==1.71.0->vertexai) (1.63.2)\n",
      "Requirement already satisfied: grpcio-status<2.0dev,>=1.33.2 in /opt/conda/lib/python3.10/site-packages (from google-api-core[grpc]!=2.0.*,!=2.1.*,!=2.2.*,!=2.3.*,!=2.4.*,!=2.5.*,!=2.6.*,!=2.7.*,<3.0.0dev,>=1.34.1->google-cloud-aiplatform[all]==1.71.0->vertexai) (1.48.2)\n",
      "Requirement already satisfied: grpcio<2.0dev,>=1.33.2 in /opt/conda/lib/python3.10/site-packages (from google-api-core[grpc]!=2.0.*,!=2.1.*,!=2.2.*,!=2.3.*,!=2.4.*,!=2.5.*,!=2.6.*,!=2.7.*,<3.0.0dev,>=1.34.1->google-cloud-aiplatform[all]==1.71.0->vertexai) (1.65.4)\n",
      "Requirement already satisfied: cachetools<6.0,>=2.0.0 in /opt/conda/lib/python3.10/site-packages (from google-auth<3.0.0dev,>=2.14.1->google-cloud-aiplatform[all]==1.71.0->vertexai) (5.4.0)\n",
      "Requirement already satisfied: rsa<5,>=3.1.4 in /opt/conda/lib/python3.10/site-packages (from google-auth<3.0.0dev,>=2.14.1->google-cloud-aiplatform[all]==1.71.0->vertexai) (4.9)\n",
      "Requirement already satisfied: pyasn1-modules>=0.2.1 in /opt/conda/lib/python3.10/site-packages (from google-auth<3.0.0dev,>=2.14.1->google-cloud-aiplatform[all]==1.71.0->vertexai) (0.4.0)\n",
      "Requirement already satisfied: python-dateutil<3.0dev,>=2.7.2 in /opt/conda/lib/python3.10/site-packages (from google-cloud-bigquery!=3.20.0,<4.0.0dev,>=1.15.0->google-cloud-aiplatform[all]==1.71.0->vertexai) (2.9.0.post0)\n",
      "Requirement already satisfied: google-cloud-core<3.0.0dev,>=1.6.0 in /opt/conda/lib/python3.10/site-packages (from google-cloud-bigquery!=3.20.0,<4.0.0dev,>=1.15.0->google-cloud-aiplatform[all]==1.71.0->vertexai) (2.4.1)\n",
      "Requirement already satisfied: google-resumable-media<3.0dev,>=0.6.0 in /opt/conda/lib/python3.10/site-packages (from google-cloud-bigquery!=3.20.0,<4.0.0dev,>=1.15.0->google-cloud-aiplatform[all]==1.71.0->vertexai) (2.7.1)\n",
      "Requirement already satisfied: grpc-google-iam-v1<1.0.0dev,>=0.12.4 in /opt/conda/lib/python3.10/site-packages (from google-cloud-resource-manager<3.0.0dev,>=1.3.3->google-cloud-aiplatform[all]==1.71.0->vertexai) (0.13.1)\n",
      "Requirement already satisfied: google-crc32c<2.0dev,>=1.0 in /opt/conda/lib/python3.10/site-packages (from google-cloud-storage<3.0.0dev,>=1.32.0->google-cloud-aiplatform[all]==1.71.0->vertexai) (1.5.0)\n",
      "Requirement already satisfied: pyasn1<0.7.0,>=0.4.6 in /opt/conda/lib/python3.10/site-packages (from pyasn1-modules>=0.2.1->google-auth<3.0.0dev,>=2.14.1->google-cloud-aiplatform[all]==1.71.0->vertexai) (0.6.0)\n",
      "Requirement already satisfied: pydantic-core==2.20.1 in /opt/conda/lib/python3.10/site-packages (from pydantic<3->google-cloud-aiplatform[all]==1.71.0->vertexai) (2.20.1)\n",
      "Requirement already satisfied: annotated-types>=0.4.0 in /opt/conda/lib/python3.10/site-packages (from pydantic<3->google-cloud-aiplatform[all]==1.71.0->vertexai) (0.7.0)\n",
      "Requirement already satisfied: typing-extensions>=4.6.1 in /opt/conda/lib/python3.10/site-packages (from pydantic<3->google-cloud-aiplatform[all]==1.71.0->vertexai) (4.12.2)\n",
      "Requirement already satisfied: six>=1.5 in /opt/conda/lib/python3.10/site-packages (from python-dateutil<3.0dev,>=2.7.2->google-cloud-bigquery!=3.20.0,<4.0.0dev,>=1.15.0->google-cloud-aiplatform[all]==1.71.0->vertexai) (1.16.0)\n",
      "Requirement already satisfied: charset-normalizer<4,>=2 in /opt/conda/lib/python3.10/site-packages (from requests<3.0.0dev,>=2.18.0->google-api-core[grpc]!=2.0.*,!=2.1.*,!=2.2.*,!=2.3.*,!=2.4.*,!=2.5.*,!=2.6.*,!=2.7.*,<3.0.0dev,>=1.34.1->google-cloud-aiplatform[all]==1.71.0->vertexai) (2.0.4)\n",
      "Requirement already satisfied: idna<4,>=2.5 in /opt/conda/lib/python3.10/site-packages (from requests<3.0.0dev,>=2.18.0->google-api-core[grpc]!=2.0.*,!=2.1.*,!=2.2.*,!=2.3.*,!=2.4.*,!=2.5.*,!=2.6.*,!=2.7.*,<3.0.0dev,>=1.34.1->google-cloud-aiplatform[all]==1.71.0->vertexai) (3.3)\n",
      "Requirement already satisfied: certifi>=2017.4.17 in /opt/conda/lib/python3.10/site-packages (from requests<3.0.0dev,>=2.18.0->google-api-core[grpc]!=2.0.*,!=2.1.*,!=2.2.*,!=2.3.*,!=2.4.*,!=2.5.*,!=2.6.*,!=2.7.*,<3.0.0dev,>=1.34.1->google-cloud-aiplatform[all]==1.71.0->vertexai) (2024.7.4)\n",
      "Requirement already satisfied: urllib3<3,>=1.21.1 in /opt/conda/lib/python3.10/site-packages (from requests<3.0.0dev,>=2.18.0->google-api-core[grpc]!=2.0.*,!=2.1.*,!=2.2.*,!=2.3.*,!=2.4.*,!=2.5.*,!=2.6.*,!=2.7.*,<3.0.0dev,>=1.34.1->google-cloud-aiplatform[all]==1.71.0->vertexai) (1.26.19)\n",
      "Requirement already satisfied: numpy<3,>=1.14 in /home/jupyter/.local/lib/python3.10/site-packages (from shapely<3.0.0dev->google-cloud-aiplatform[all]==1.71.0->vertexai) (1.24.3)\n",
      "Installing collected packages: google-cloud-aiplatform, vertexai\n",
      "  Attempting uninstall: google-cloud-aiplatform\n",
      "    Found existing installation: google-cloud-aiplatform 1.60.0\n",
      "    Uninstalling google-cloud-aiplatform-1.60.0:\n",
      "      Successfully uninstalled google-cloud-aiplatform-1.60.0\n",
      "\u001b[31mERROR: pip's dependency resolver does not currently take into account all the packages that are installed. This behaviour is the source of the following dependency conflicts.\n",
      "langchain-google-vertexai 2.0.6 requires google-cloud-storage<3.0.0,>=2.18.0, but you have google-cloud-storage 2.14.0 which is incompatible.\u001b[0m\n",
      "Successfully installed google-cloud-aiplatform-1.71.0 vertexai-1.71.0\n"
     ]
    }
   ],
   "source": [
    "#!pip install --upgrade google-cloud-aiplatform\n",
    "!pip install vertexai\n",
    "!pip install langchain-google-genai\n",
    "!pip install langchain\n",
    "!pip install langchain-experimental\n",
    "!pip install --no-deps langchain-google-vertexai "
   ]
  },
  {
   "cell_type": "markdown",
   "id": "01a9d81f-d79a-4bb1-bf65-f7f51245daa6",
   "metadata": {},
   "source": [
    "Initialize variables"
   ]
  },
  {
   "cell_type": "code",
   "execution_count": 28,
   "id": "b4fd443a-f7fd-432d-a909-10e3513bcd5e",
   "metadata": {
    "tags": []
   },
   "outputs": [],
   "source": [
    "PROJECT = 'felipe-sandbox-354619' # replace with project ID\n",
    "BUCKET = PROJECT + \"-bucket\" \n",
    "CSV_FILE = \"files/customer-comments.csv\""
   ]
  },
  {
   "cell_type": "markdown",
   "id": "19ce2df3-64a3-4f57-a9fb-1c8a1dfcc83b",
   "metadata": {
    "tags": []
   },
   "source": [
    "Colab setup if needed"
   ]
  },
  {
   "cell_type": "code",
   "execution_count": 29,
   "id": "2af014e5-b39e-4a93-9e0a-628717e83c45",
   "metadata": {
    "tags": []
   },
   "outputs": [
    {
     "name": "stdout",
     "output_type": "stream",
     "text": [
      "Not a Colab Environment\n"
     ]
    }
   ],
   "source": [
    "try:\n",
    "    from google.colab import auth\n",
    "    auth.authenticate_user()\n",
    "    !gcloud config set project {PROJECT}\n",
    "    print('Colab authorized to GCP')\n",
    "except Exception:\n",
    "    print('Not a Colab Environment')\n",
    "    pass"
   ]
  },
  {
   "cell_type": "markdown",
   "id": "3EZsamn67y6J",
   "metadata": {
    "id": "3EZsamn67y6J"
   },
   "source": [
    "## Langchain Setup"
   ]
  },
  {
   "cell_type": "markdown",
   "id": "aZAoXfB8z4uIoOWQgYDPEvj5",
   "metadata": {
    "id": "aZAoXfB8z4uIoOWQgYDPEvj5",
    "tags": []
   },
   "source": [
    "### Tools"
   ]
  },
  {
   "cell_type": "code",
   "execution_count": 50,
   "id": "2dFDFBiEF-cX",
   "metadata": {
    "executionInfo": {
     "elapsed": 304,
     "status": "ok",
     "timestamp": 1730321794859,
     "user": {
      "displayName": "",
      "userId": ""
     },
     "user_tz": 240
    },
    "id": "2dFDFBiEF-cX",
    "tags": []
   },
   "outputs": [],
   "source": [
    "import pandas as pd\n",
    "import pandas as pd\n",
    "from langchain.agents import Tool\n",
    "from langchain.tools import tool\n",
    "from io import StringIO\n",
    "from pydantic import BaseModel, Field\n",
    "\n",
    "@tool(\"pandas_calculator\", return_direct=False)\n",
    "def pandas_calculator(dictionary:str):\n",
    "    \"\"\"\n",
    "    Evaluates an expression on a Pandas DataFrame and returns the result.\n",
    "    Inputs include an expression expr and a file path csv_file_path\n",
    "    Inputs should be in format {\\\"expr\\\": str, \\\"csv_file_path\\\": str}\n",
    "    \"\"\"\n",
    "    dictionary = json.loads(dictionary)\n",
    "    csv_file_path = dictionary[\"csv_file_path\"]\n",
    "    expr = dictionary[\"expr\"]\n",
    "    \n",
    "    try:\n",
    "        df = pd.read_csv(csv_file_path)\n",
    "        print(df)\n",
    "        # evaluate expr on the pandas dataframe\n",
    "        result = eval(expr)\n",
    "        # return the result\n",
    "        return str(result)\n",
    "    except Exception as e:\n",
    "        return f\"Error: Could not load data or evaluate expression. {e}\""
   ]
  },
  {
   "cell_type": "code",
   "execution_count": 115,
   "id": "db6506fb-b152-456d-b4d9-724e9b42164f",
   "metadata": {
    "tags": []
   },
   "outputs": [
    {
     "name": "stdout",
     "output_type": "stream",
     "text": [
      "{\"csv_input_file\":\"files/customer-comments.csv\"}\n",
      "{\"csv_input_file\":\"files/customer-comments.csv\"}\n"
     ]
    },
    {
     "data": {
      "text/plain": [
       "\"sample data: \\n   index                                       comment country\\n0      1                  The product arrived damaged.      US\\n1      2              I'm very happy with the service!  Mexico\\n2      3             I have a question about my order.  Canada\\n3      4                        The delivery was late.      US\\n4      5  The customer support agent was very helpful.  Canada\\n\\n\""
      ]
     },
     "execution_count": 115,
     "metadata": {},
     "output_type": "execute_result"
    }
   ],
   "source": [
    "@tool(\"csv_summary_statistics\", return_direct=False)\n",
    "def csv_summary_statistics(dictionary:str):\n",
    "    \"\"\"\n",
    "    Gets summary statistics on the csv to understand the data\n",
    "    Before running pandas calculator please run the statistics first\n",
    "    Inputs should be in format {\\\"csv_input_file\\\": str}\n",
    "    \"\"\"\n",
    "    \n",
    "    print(dictionary)\n",
    "    dictionary = json.loads(dictionary)\n",
    "    input_path = dictionary[\"csv_input_file\"]\n",
    "    \n",
    "    try:\n",
    "        df = pd.read_csv(input_path)\n",
    "        # evaluate expr on the pandas dataframe\n",
    "        result = \"sample data: \\n\" + df.head().to_string() + \"\\n\\n\"\n",
    "        #result += \"information on the data: \" + df.info().to_string()\n",
    "        #print(df.info())\n",
    "        # return the result\n",
    "        return str(result)\n",
    "    except Exception as e:\n",
    "        return f\"Error: Could not load data or evaluate expression. {e}\"\n",
    "    \n",
    "test_path = \"{\\\"csv_input_file\\\":\\\"\" + CSV_FILE + \"\\\"}\"\n",
    "print(test_path)\n",
    "csv_summary_statistics(test_path)"
   ]
  },
  {
   "cell_type": "code",
   "execution_count": 116,
   "id": "n7YCgEQM74Ac",
   "metadata": {
    "colab": {
     "base_uri": "https://localhost:8080/"
    },
    "executionInfo": {
     "elapsed": 348,
     "status": "ok",
     "timestamp": 1730321798695,
     "user": {
      "displayName": "",
      "userId": ""
     },
     "user_tz": 240
    },
    "id": "n7YCgEQM74Ac",
    "outputId": "8a20b6d9-d9ab-4c39-edf1-69c024e49963",
    "tags": []
   },
   "outputs": [
    {
     "name": "stderr",
     "output_type": "stream",
     "text": [
      "/opt/conda/lib/python3.10/site-packages/langsmith/client.py:221: LangSmithMissingAPIKeyWarning: API key must be provided when using hosted LangSmith API\n",
      "  warnings.warn(\n"
     ]
    }
   ],
   "source": [
    "from langchain import hub\n",
    "from langchain.agents import AgentExecutor, create_react_agent\n",
    "from langchain_google_vertexai import ChatVertexAI\n",
    "from langchain.memory import ConversationBufferWindowMemory\n",
    "\n",
    "\n",
    "llm = ChatVertexAI(model=\"gemini-1.5-pro-002\")\n",
    "prompt = hub.pull(\"hwchase17/react-chat\")\n",
    "chat_history = ConversationBufferWindowMemory(k=10)\n",
    "\n",
    "agent = create_react_agent(llm, [pandas_calculator,csv_summary_statistics], prompt)\n",
    "\n",
    "agent_executor = AgentExecutor(agent=agent,\n",
    "                               tools=[pandas_calculator,csv_summary_statistics],\n",
    "                               verbose=True, handle_parsing_errors=True,\n",
    "                               max_iterations=5)\n",
    "\n",
    "def append_chat_history(input, response):\n",
    "    chat_history.save_context({\"input\": input}, {\"output\": response})\n",
    "\n",
    "def invoke(input):\n",
    "    msg = {\n",
    "        \"input\": input,\n",
    "        \"chat_history\": chat_history.load_memory_variables({}),\n",
    "    }\n",
    "    print(f\"Input: {msg}\")\n",
    "\n",
    "    response = agent_executor.invoke(msg)\n",
    "    print(f\"Response: {response}\")\n",
    "\n",
    "    append_chat_history(response[\"input\"], response[\"output\"])\n",
    "    print(f\"History: {chat_history.load_memory_variables({})}\")"
   ]
  },
  {
   "cell_type": "code",
   "execution_count": 117,
   "id": "ghjHsiHpETAd",
   "metadata": {
    "colab": {
     "base_uri": "https://localhost:8080/"
    },
    "executionInfo": {
     "elapsed": 3086,
     "status": "ok",
     "timestamp": 1730321804540,
     "user": {
      "displayName": "",
      "userId": ""
     },
     "user_tz": 240
    },
    "id": "ghjHsiHpETAd",
    "outputId": "0b4e09b8-89e7-4871-f3c9-f6b9741ed37a",
    "tags": []
   },
   "outputs": [
    {
     "name": "stdout",
     "output_type": "stream",
     "text": [
      "Input: {'input': 'Hi', 'chat_history': {'history': ''}}\n",
      "\n",
      "\n",
      "\u001b[1m> Entering new AgentExecutor chain...\u001b[0m\n",
      "\u001b[32;1m\u001b[1;3mThought: Do I need to use a tool? No\n",
      "Final Answer: Hello! How can I help you today?\n",
      " How can I help you today?\n",
      "\u001b[0m\n",
      "\n",
      "\u001b[1m> Finished chain.\u001b[0m\n",
      "Response: {'input': 'Hi', 'chat_history': {'history': ''}, 'output': 'Hello! How can I help you today?\\n How can I help you today?'}\n",
      "History: {'history': 'Human: Hi\\nAI: Hello! How can I help you today?\\n How can I help you today?'}\n",
      "Input: {'input': 'files/customer-comments.csv\\n\\n how many rows are in this file?', 'chat_history': {'history': 'Human: Hi\\nAI: Hello! How can I help you today?\\n How can I help you today?'}}\n",
      "\n",
      "\n",
      "\u001b[1m> Entering new AgentExecutor chain...\u001b[0m\n",
      "\u001b[32;1m\u001b[1;3mThought: Do I need to use a tool? Yes\n",
      "Action: csv_summary_statistics\n",
      "Action Input: {\"csv_input_file\": \"files/customer-comments.csv\"}\u001b[0m{\"csv_input_file\": \"files/customer-comments.csv\"}\n",
      "\u001b[33;1m\u001b[1;3msample data: \n",
      "   index                                       comment country\n",
      "0      1                  The product arrived damaged.      US\n",
      "1      2              I'm very happy with the service!  Mexico\n",
      "2      3             I have a question about my order.  Canada\n",
      "3      4                        The delivery was late.      US\n",
      "4      5  The customer support agent was very helpful.  Canada\n",
      "\n",
      "\u001b[0m\u001b[32;1m\u001b[1;3mDo I need to use a tool? Yes\n",
      "Action: pandas_calculator\n",
      "Action Input: {\"expr\": \"len(df)\", \"csv_file_path\": \"files/customer-comments.csv\"}\u001b[0m    index                                       comment country\n",
      "0       1                  The product arrived damaged.      US\n",
      "1       2              I'm very happy with the service!  Mexico\n",
      "2       3             I have a question about my order.  Canada\n",
      "3       4                        The delivery was late.      US\n",
      "4       5  The customer support agent was very helpful.  Canada\n",
      "..    ...                                           ...     ...\n",
      "95     96   I'm not satisfied with the product quality.      US\n",
      "96     97                     I need to return an item.  Canada\n",
      "97     98                   The website is easy to use.  Mexico\n",
      "98     99     I couldn't find the information I needed.      US\n",
      "99    100                        The price is too high.      US\n",
      "\n",
      "[100 rows x 3 columns]\n",
      "\u001b[36;1m\u001b[1;3m100\u001b[0m\u001b[32;1m\u001b[1;3mDo I need to use a tool? No\n",
      "Final Answer: There are 100 rows in the file.\n",
      "00 rows in the file.\n",
      "\u001b[0m\n",
      "\n",
      "\u001b[1m> Finished chain.\u001b[0m\n",
      "Response: {'input': 'files/customer-comments.csv\\n\\n how many rows are in this file?', 'chat_history': {'history': 'Human: Hi\\nAI: Hello! How can I help you today?\\n How can I help you today?'}, 'output': 'There are 100 rows in the file.\\n00 rows in the file.'}\n",
      "History: {'history': 'Human: Hi\\nAI: Hello! How can I help you today?\\n How can I help you today?\\nHuman: files/customer-comments.csv\\n\\n how many rows are in this file?\\nAI: There are 100 rows in the file.\\n00 rows in the file.'}\n"
     ]
    }
   ],
   "source": [
    "invoke(\"Hi\")\n",
    "invoke(CSV_FILE + \"\\n\\n how many rows are in this file?\")"
   ]
  },
  {
   "cell_type": "code",
   "execution_count": 120,
   "id": "eVrNIXm9MHtm",
   "metadata": {
    "colab": {
     "base_uri": "https://localhost:8080/"
    },
    "executionInfo": {
     "elapsed": 3492,
     "status": "ok",
     "timestamp": 1730321808028,
     "user": {
      "displayName": "",
      "userId": ""
     },
     "user_tz": 240
    },
    "id": "eVrNIXm9MHtm",
    "outputId": "caf99249-d308-4d8c-81fd-cba6a9fb7348",
    "tags": []
   },
   "outputs": [
    {
     "name": "stdout",
     "output_type": "stream",
     "text": [
      "Input: {'input': 'can you count how many rows are from the US?', 'chat_history': {'history': 'Human: Hi\\nAI: Hello! How can I help you today?\\n How can I help you today?\\nHuman: files/customer-comments.csv\\n\\n how many rows are in this file?\\nAI: There are 100 rows in the file.\\n00 rows in the file.\\nHuman: can you count how many rows are from the US?\\nAI: There are 42 rows from the US.\\n2 rows from the US.\\nHuman: how many rows include the word package?\\nAI: There are 0 rows that include the word \"package\".\\n rows that include the word \"package\".'}}\n",
      "\n",
      "\n",
      "\u001b[1m> Entering new AgentExecutor chain...\u001b[0m\n",
      "\u001b[32;1m\u001b[1;3mThought: Do I need to use a tool? Yes\n",
      "Action: pandas_calculator\n",
      "Action Input: {\"expr\": \"df[df['Country'] == 'US'].shape[0]\", \"csv_file_path\": \"files/customer-comments.csv\"}\u001b[0m    index                                       comment country\n",
      "0       1                  The product arrived damaged.      US\n",
      "1       2              I'm very happy with the service!  Mexico\n",
      "2       3             I have a question about my order.  Canada\n",
      "3       4                        The delivery was late.      US\n",
      "4       5  The customer support agent was very helpful.  Canada\n",
      "..    ...                                           ...     ...\n",
      "95     96   I'm not satisfied with the product quality.      US\n",
      "96     97                     I need to return an item.  Canada\n",
      "97     98                   The website is easy to use.  Mexico\n",
      "98     99     I couldn't find the information I needed.      US\n",
      "99    100                        The price is too high.      US\n",
      "\n",
      "[100 rows x 3 columns]\n",
      "\u001b[36;1m\u001b[1;3mError: Could not load data or evaluate expression. 'Country'\u001b[0m\u001b[32;1m\u001b[1;3mDo I need to use a tool? Yes\n",
      "Action: csv_summary_statistics\n",
      "Action Input: {\"csv_input_file\": \"files/customer-comments.csv\"}\u001b[0m{\"csv_input_file\": \"files/customer-comments.csv\"}\n",
      "\u001b[33;1m\u001b[1;3msample data: \n",
      "   index                                       comment country\n",
      "0      1                  The product arrived damaged.      US\n",
      "1      2              I'm very happy with the service!  Mexico\n",
      "2      3             I have a question about my order.  Canada\n",
      "3      4                        The delivery was late.      US\n",
      "4      5  The customer support agent was very helpful.  Canada\n",
      "\n",
      "\u001b[0m\u001b[32;1m\u001b[1;3mDo I need to use a tool? Yes\n",
      "Action: pandas_calculator\n",
      "Action Input: {\"expr\": \"df[df['country'] == 'US'].shape[0]\", \"csv_file_path\": \"files/customer-comments.csv\"}\u001b[0m    index                                       comment country\n",
      "0       1                  The product arrived damaged.      US\n",
      "1       2              I'm very happy with the service!  Mexico\n",
      "2       3             I have a question about my order.  Canada\n",
      "3       4                        The delivery was late.      US\n",
      "4       5  The customer support agent was very helpful.  Canada\n",
      "..    ...                                           ...     ...\n",
      "95     96   I'm not satisfied with the product quality.      US\n",
      "96     97                     I need to return an item.  Canada\n",
      "97     98                   The website is easy to use.  Mexico\n",
      "98     99     I couldn't find the information I needed.      US\n",
      "99    100                        The price is too high.      US\n",
      "\n",
      "[100 rows x 3 columns]\n",
      "\u001b[36;1m\u001b[1;3m42\u001b[0m\u001b[32;1m\u001b[1;3mDo I need to use a tool? No\n",
      "Final Answer: There are 42 rows from the US.\n",
      "2 rows from the US.\n",
      "\u001b[0m\n",
      "\n",
      "\u001b[1m> Finished chain.\u001b[0m\n",
      "Response: {'input': 'can you count how many rows are from the US?', 'chat_history': {'history': 'Human: Hi\\nAI: Hello! How can I help you today?\\n How can I help you today?\\nHuman: files/customer-comments.csv\\n\\n how many rows are in this file?\\nAI: There are 100 rows in the file.\\n00 rows in the file.\\nHuman: can you count how many rows are from the US?\\nAI: There are 42 rows from the US.\\n2 rows from the US.\\nHuman: how many rows include the word package?\\nAI: There are 0 rows that include the word \"package\".\\n rows that include the word \"package\".'}, 'output': 'There are 42 rows from the US.\\n2 rows from the US.'}\n",
      "History: {'history': 'Human: Hi\\nAI: Hello! How can I help you today?\\n How can I help you today?\\nHuman: files/customer-comments.csv\\n\\n how many rows are in this file?\\nAI: There are 100 rows in the file.\\n00 rows in the file.\\nHuman: can you count how many rows are from the US?\\nAI: There are 42 rows from the US.\\n2 rows from the US.\\nHuman: how many rows include the word package?\\nAI: There are 0 rows that include the word \"package\".\\n rows that include the word \"package\".\\nHuman: can you count how many rows are from the US?\\nAI: There are 42 rows from the US.\\n2 rows from the US.'}\n"
     ]
    }
   ],
   "source": [
    "invoke(\"can you count how many rows are from the US?\")"
   ]
  },
  {
   "cell_type": "code",
   "execution_count": 122,
   "id": "-VK9OdHeM4e8",
   "metadata": {
    "colab": {
     "base_uri": "https://localhost:8080/"
    },
    "executionInfo": {
     "elapsed": 3662,
     "status": "ok",
     "timestamp": 1730321837264,
     "user": {
      "displayName": "",
      "userId": ""
     },
     "user_tz": 240
    },
    "id": "-VK9OdHeM4e8",
    "outputId": "707a5b02-6233-4c4c-c4e0-ed0654b6e115"
   },
   "outputs": [
    {
     "name": "stdout",
     "output_type": "stream",
     "text": [
      "Input: {'input': 'how many rows include the word product?', 'chat_history': {'history': 'Human: Hi\\nAI: Hello! How can I help you today?\\n How can I help you today?\\nHuman: files/customer-comments.csv\\n\\n how many rows are in this file?\\nAI: There are 100 rows in the file.\\n00 rows in the file.\\nHuman: can you count how many rows are from the US?\\nAI: There are 42 rows from the US.\\n2 rows from the US.\\nHuman: how many rows include the word package?\\nAI: There are 0 rows that include the word \"package\".\\n rows that include the word \"package\".\\nHuman: can you count how many rows are from the US?\\nAI: There are 42 rows from the US.\\n2 rows from the US.\\nHuman: how many rows include the word package?\\nAI: There are 0 rows that include the word \"package\".\\n rows that include the word \"package\".'}}\n",
      "\n",
      "\n",
      "\u001b[1m> Entering new AgentExecutor chain...\u001b[0m\n",
      "\u001b[32;1m\u001b[1;3mThought: Do I need to use a tool? Yes\n",
      "Action: pandas_calculator\n",
      "Action Input: {\"expr\": \"df['Customer Comment'].str.contains('product').sum()\", \"csv_file_path\": \"files/customer-comments.csv\"}\u001b[0m    index                                       comment country\n",
      "0       1                  The product arrived damaged.      US\n",
      "1       2              I'm very happy with the service!  Mexico\n",
      "2       3             I have a question about my order.  Canada\n",
      "3       4                        The delivery was late.      US\n",
      "4       5  The customer support agent was very helpful.  Canada\n",
      "..    ...                                           ...     ...\n",
      "95     96   I'm not satisfied with the product quality.      US\n",
      "96     97                     I need to return an item.  Canada\n",
      "97     98                   The website is easy to use.  Mexico\n",
      "98     99     I couldn't find the information I needed.      US\n",
      "99    100                        The price is too high.      US\n",
      "\n",
      "[100 rows x 3 columns]\n",
      "\u001b[36;1m\u001b[1;3mError: Could not load data or evaluate expression. 'Customer Comment'\u001b[0m\u001b[32;1m\u001b[1;3mDo I need to use a tool? Yes\n",
      "Action: pandas_calculator\n",
      "Action Input: {\"expr\": \"df['comment'].str.contains('product').sum()\", \"csv_file_path\": \"files/customer-comments.csv\"}\u001b[0m    index                                       comment country\n",
      "0       1                  The product arrived damaged.      US\n",
      "1       2              I'm very happy with the service!  Mexico\n",
      "2       3             I have a question about my order.  Canada\n",
      "3       4                        The delivery was late.      US\n",
      "4       5  The customer support agent was very helpful.  Canada\n",
      "..    ...                                           ...     ...\n",
      "95     96   I'm not satisfied with the product quality.      US\n",
      "96     97                     I need to return an item.  Canada\n",
      "97     98                   The website is easy to use.  Mexico\n",
      "98     99     I couldn't find the information I needed.      US\n",
      "99    100                        The price is too high.      US\n",
      "\n",
      "[100 rows x 3 columns]\n",
      "\u001b[36;1m\u001b[1;3m26\u001b[0m\u001b[32;1m\u001b[1;3mDo I need to use a tool? No\n",
      "Final Answer: There are 26 rows that include the word \"product\".\n",
      "6 rows that include the word \"product\".\n",
      "\u001b[0m\n",
      "\n",
      "\u001b[1m> Finished chain.\u001b[0m\n",
      "Response: {'input': 'how many rows include the word product?', 'chat_history': {'history': 'Human: Hi\\nAI: Hello! How can I help you today?\\n How can I help you today?\\nHuman: files/customer-comments.csv\\n\\n how many rows are in this file?\\nAI: There are 100 rows in the file.\\n00 rows in the file.\\nHuman: can you count how many rows are from the US?\\nAI: There are 42 rows from the US.\\n2 rows from the US.\\nHuman: how many rows include the word package?\\nAI: There are 0 rows that include the word \"package\".\\n rows that include the word \"package\".\\nHuman: can you count how many rows are from the US?\\nAI: There are 42 rows from the US.\\n2 rows from the US.\\nHuman: how many rows include the word package?\\nAI: There are 0 rows that include the word \"package\".\\n rows that include the word \"package\".'}, 'output': 'There are 26 rows that include the word \"product\".\\n6 rows that include the word \"product\".'}\n",
      "History: {'history': 'Human: Hi\\nAI: Hello! How can I help you today?\\n How can I help you today?\\nHuman: files/customer-comments.csv\\n\\n how many rows are in this file?\\nAI: There are 100 rows in the file.\\n00 rows in the file.\\nHuman: can you count how many rows are from the US?\\nAI: There are 42 rows from the US.\\n2 rows from the US.\\nHuman: how many rows include the word package?\\nAI: There are 0 rows that include the word \"package\".\\n rows that include the word \"package\".\\nHuman: can you count how many rows are from the US?\\nAI: There are 42 rows from the US.\\n2 rows from the US.\\nHuman: how many rows include the word package?\\nAI: There are 0 rows that include the word \"package\".\\n rows that include the word \"package\".\\nHuman: how many rows include the word product?\\nAI: There are 26 rows that include the word \"product\".\\n6 rows that include the word \"product\".'}\n"
     ]
    }
   ],
   "source": [
    "invoke(\"how many rows include the word product?\")"
   ]
  },
  {
   "cell_type": "code",
   "execution_count": 123,
   "id": "8Yv3T5r8N9uR",
   "metadata": {
    "colab": {
     "base_uri": "https://localhost:8080/"
    },
    "executionInfo": {
     "elapsed": 5007,
     "status": "ok",
     "timestamp": 1730321954768,
     "user": {
      "displayName": "",
      "userId": ""
     },
     "user_tz": 240
    },
    "id": "8Yv3T5r8N9uR",
    "outputId": "5ad0ebd7-a8e4-44f8-af12-c03a76e825a2"
   },
   "outputs": [
    {
     "name": "stdout",
     "output_type": "stream",
     "text": [
      "Input: {'input': 'how many rows are positive and how many are negative sentiment?', 'chat_history': {'history': 'Human: Hi\\nAI: Hello! How can I help you today?\\n How can I help you today?\\nHuman: files/customer-comments.csv\\n\\n how many rows are in this file?\\nAI: There are 100 rows in the file.\\n00 rows in the file.\\nHuman: can you count how many rows are from the US?\\nAI: There are 42 rows from the US.\\n2 rows from the US.\\nHuman: how many rows include the word package?\\nAI: There are 0 rows that include the word \"package\".\\n rows that include the word \"package\".\\nHuman: can you count how many rows are from the US?\\nAI: There are 42 rows from the US.\\n2 rows from the US.\\nHuman: how many rows include the word package?\\nAI: There are 0 rows that include the word \"package\".\\n rows that include the word \"package\".\\nHuman: how many rows include the word product?\\nAI: There are 26 rows that include the word \"product\".\\n6 rows that include the word \"product\".'}}\n",
      "\n",
      "\n",
      "\u001b[1m> Entering new AgentExecutor chain...\u001b[0m\n",
      "\u001b[32;1m\u001b[1;3mThought: Do I need to use a tool? Yes\n",
      "Action: pandas_calculator\n",
      "Action Input: {\"expr\": \"df['Sentiment'].value_counts()\", \"csv_file_path\": \"files/customer-comments.csv\"}\u001b[0m    index                                       comment country\n",
      "0       1                  The product arrived damaged.      US\n",
      "1       2              I'm very happy with the service!  Mexico\n",
      "2       3             I have a question about my order.  Canada\n",
      "3       4                        The delivery was late.      US\n",
      "4       5  The customer support agent was very helpful.  Canada\n",
      "..    ...                                           ...     ...\n",
      "95     96   I'm not satisfied with the product quality.      US\n",
      "96     97                     I need to return an item.  Canada\n",
      "97     98                   The website is easy to use.  Mexico\n",
      "98     99     I couldn't find the information I needed.      US\n",
      "99    100                        The price is too high.      US\n",
      "\n",
      "[100 rows x 3 columns]\n",
      "\u001b[36;1m\u001b[1;3mError: Could not load data or evaluate expression. 'Sentiment'\u001b[0m\u001b[32;1m\u001b[1;3mDo I need to use a tool? Yes\n",
      "Action: csv_summary_statistics\n",
      "Action Input: {\"csv_input_file\": \"files/customer-comments.csv\"}\u001b[0m{\"csv_input_file\": \"files/customer-comments.csv\"}\n",
      "\u001b[33;1m\u001b[1;3msample data: \n",
      "   index                                       comment country\n",
      "0      1                  The product arrived damaged.      US\n",
      "1      2              I'm very happy with the service!  Mexico\n",
      "2      3             I have a question about my order.  Canada\n",
      "3      4                        The delivery was late.      US\n",
      "4      5  The customer support agent was very helpful.  Canada\n",
      "\n",
      "\u001b[0m\u001b[32;1m\u001b[1;3mDo I need to use a tool? Yes\n",
      "Action: pandas_calculator\n",
      "Action Input: {\"expr\": \"df['comment'].str.contains('positive').sum()\", \"csv_file_path\": \"files/customer-comments.csv\"}\u001b[0m    index                                       comment country\n",
      "0       1                  The product arrived damaged.      US\n",
      "1       2              I'm very happy with the service!  Mexico\n",
      "2       3             I have a question about my order.  Canada\n",
      "3       4                        The delivery was late.      US\n",
      "4       5  The customer support agent was very helpful.  Canada\n",
      "..    ...                                           ...     ...\n",
      "95     96   I'm not satisfied with the product quality.      US\n",
      "96     97                     I need to return an item.  Canada\n",
      "97     98                   The website is easy to use.  Mexico\n",
      "98     99     I couldn't find the information I needed.      US\n",
      "99    100                        The price is too high.      US\n",
      "\n",
      "[100 rows x 3 columns]\n",
      "\u001b[36;1m\u001b[1;3m0\u001b[0m\u001b[32;1m\u001b[1;3mDo I need to use a tool? Yes\n",
      "Action: pandas_calculator\n",
      "Action Input: {\"expr\": \"df['comment'].str.contains('negative').sum()\", \"csv_file_path\": \"files/customer-comments.csv\"}\u001b[0m    index                                       comment country\n",
      "0       1                  The product arrived damaged.      US\n",
      "1       2              I'm very happy with the service!  Mexico\n",
      "2       3             I have a question about my order.  Canada\n",
      "3       4                        The delivery was late.      US\n",
      "4       5  The customer support agent was very helpful.  Canada\n",
      "..    ...                                           ...     ...\n",
      "95     96   I'm not satisfied with the product quality.      US\n",
      "96     97                     I need to return an item.  Canada\n",
      "97     98                   The website is easy to use.  Mexico\n",
      "98     99     I couldn't find the information I needed.      US\n",
      "99    100                        The price is too high.      US\n",
      "\n",
      "[100 rows x 3 columns]\n",
      "\u001b[36;1m\u001b[1;3m0\u001b[0m\u001b[32;1m\u001b[1;3mDo I need to use a tool? No\n",
      "Final Answer: There are 0 rows that contain the word \"positive\" and 0 rows that contain the word \"negative\". It seems there isn't a sentiment column in your dataset, or the sentiment is expressed differently than with those words.  If the sentiment is indicated in some other way, I can help determine the counts if you can describe how it is represented.\n",
      " indicated in some other way, I can help determine the counts if you can describe how it is represented.\n",
      "\u001b[0m\n",
      "\n",
      "\u001b[1m> Finished chain.\u001b[0m\n",
      "Response: {'input': 'how many rows are positive and how many are negative sentiment?', 'chat_history': {'history': 'Human: Hi\\nAI: Hello! How can I help you today?\\n How can I help you today?\\nHuman: files/customer-comments.csv\\n\\n how many rows are in this file?\\nAI: There are 100 rows in the file.\\n00 rows in the file.\\nHuman: can you count how many rows are from the US?\\nAI: There are 42 rows from the US.\\n2 rows from the US.\\nHuman: how many rows include the word package?\\nAI: There are 0 rows that include the word \"package\".\\n rows that include the word \"package\".\\nHuman: can you count how many rows are from the US?\\nAI: There are 42 rows from the US.\\n2 rows from the US.\\nHuman: how many rows include the word package?\\nAI: There are 0 rows that include the word \"package\".\\n rows that include the word \"package\".\\nHuman: how many rows include the word product?\\nAI: There are 26 rows that include the word \"product\".\\n6 rows that include the word \"product\".'}, 'output': 'There are 0 rows that contain the word \"positive\" and 0 rows that contain the word \"negative\". It seems there isn\\'t a sentiment column in your dataset, or the sentiment is expressed differently than with those words.  If the sentiment is indicated in some other way, I can help determine the counts if you can describe how it is represented.\\n indicated in some other way, I can help determine the counts if you can describe how it is represented.'}\n",
      "History: {'history': 'Human: Hi\\nAI: Hello! How can I help you today?\\n How can I help you today?\\nHuman: files/customer-comments.csv\\n\\n how many rows are in this file?\\nAI: There are 100 rows in the file.\\n00 rows in the file.\\nHuman: can you count how many rows are from the US?\\nAI: There are 42 rows from the US.\\n2 rows from the US.\\nHuman: how many rows include the word package?\\nAI: There are 0 rows that include the word \"package\".\\n rows that include the word \"package\".\\nHuman: can you count how many rows are from the US?\\nAI: There are 42 rows from the US.\\n2 rows from the US.\\nHuman: how many rows include the word package?\\nAI: There are 0 rows that include the word \"package\".\\n rows that include the word \"package\".\\nHuman: how many rows include the word product?\\nAI: There are 26 rows that include the word \"product\".\\n6 rows that include the word \"product\".\\nHuman: how many rows are positive and how many are negative sentiment?\\nAI: There are 0 rows that contain the word \"positive\" and 0 rows that contain the word \"negative\". It seems there isn\\'t a sentiment column in your dataset, or the sentiment is expressed differently than with those words.  If the sentiment is indicated in some other way, I can help determine the counts if you can describe how it is represented.\\n indicated in some other way, I can help determine the counts if you can describe how it is represented.'}\n"
     ]
    }
   ],
   "source": [
    "invoke(\"how many rows are positive and how many are negative sentiment?\")"
   ]
  }
 ],
 "metadata": {
  "colab": {
   "name": "csv_analyzer",
   "provenance": []
  },
  "environment": {
   "kernel": "conda-base-py",
   "name": "workbench-notebooks.m124",
   "type": "gcloud",
   "uri": "us-docker.pkg.dev/deeplearning-platform-release/gcr.io/workbench-notebooks:m124"
  },
  "kernelspec": {
   "display_name": "Python 3 (ipykernel)",
   "language": "python",
   "name": "conda-base-py"
  },
  "language_info": {
   "codemirror_mode": {
    "name": "ipython",
    "version": 3
   },
   "file_extension": ".py",
   "mimetype": "text/x-python",
   "name": "python",
   "nbconvert_exporter": "python",
   "pygments_lexer": "ipython3",
   "version": "3.10.14"
  }
 },
 "nbformat": 4,
 "nbformat_minor": 5
}
